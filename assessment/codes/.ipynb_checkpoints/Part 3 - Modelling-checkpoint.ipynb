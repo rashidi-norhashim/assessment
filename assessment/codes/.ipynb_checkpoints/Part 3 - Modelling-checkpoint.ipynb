{
 "cells": [
  {
   "cell_type": "markdown",
   "id": "aaa0e441",
   "metadata": {},
   "source": [
    "# Part 3 - Modelling"
   ]
  },
  {
   "cell_type": "markdown",
   "id": "da2a67c8",
   "metadata": {},
   "source": [
    "## Importing of Libraries\n"
   ]
  },
  {
   "cell_type": "code",
   "execution_count": 1,
   "id": "5e2bace5",
   "metadata": {
    "ExecuteTime": {
     "end_time": "2024-05-23T15:57:48.170368Z",
     "start_time": "2024-05-23T15:57:46.358940Z"
    },
    "scrolled": false
   },
   "outputs": [],
   "source": [
    "# importing sql libraries\n",
    "import sqlite3\n",
    "\n",
    "#importing libraries required for data analysis\n",
    "import pandas as pd\n",
    "import numpy as np\n",
    "import seaborn as sns\n",
    "import matplotlib.pyplot as plt\n",
    "\n",
    "#importing libraries for model\n",
    "from sklearn.model_selection import train_test_split, GridSearchCV\n",
    "from sklearn.linear_model import LogisticRegression\n",
    "from sklearn.preprocessing import StandardScaler\n",
    "from sklearn.metrics import confusion_matrix, plot_confusion_matrix, accuracy_score, plot_roc_curve, roc_auc_score, recall_score, precision_score, f1_score, precision_recall_curve,average_precision_score, PrecisionRecallDisplay, auc\n",
    "from imblearn.over_sampling import SMOTE\n",
    "from imblearn.pipeline import Pipeline\n",
    "from sklearn.ensemble import RandomForestClassifier\n",
    "from sklearn.tree import DecisionTreeClassifier"
   ]
  },
  {
   "cell_type": "code",
   "execution_count": 2,
   "id": "e0f98976",
   "metadata": {
    "ExecuteTime": {
     "end_time": "2024-05-23T15:57:49.043566Z",
     "start_time": "2024-05-23T15:57:49.038565Z"
    }
   },
   "outputs": [],
   "source": [
    "# Ensuring notebook remains tidy\n",
    "import warnings\n",
    "warnings.filterwarnings('ignore')"
   ]
  },
  {
   "cell_type": "markdown",
   "id": "b6a2d27f",
   "metadata": {},
   "source": [
    "## Importing from SQLite db\n"
   ]
  },
  {
   "cell_type": "code",
   "execution_count": 3,
   "id": "aa0ebfe8",
   "metadata": {
    "ExecuteTime": {
     "end_time": "2024-05-23T15:57:51.101960Z",
     "start_time": "2024-05-23T15:57:50.947930Z"
    }
   },
   "outputs": [],
   "source": [
    "#Connecting to nhgh_nonull database\n",
    "sqliteConnection = sqlite3.connect('../data/nhgh_nonull.db')\n",
    "\n",
    "#Querying from nhgh_nonull database. SELECT only the columns for the model building\n",
    "data_model= pd.read_sql(\n",
    "    '''\n",
    "    SELECT age, dx, leg, waist, sub, gh, albumin, bun\n",
    "    FROM nhgh_nonull\n",
    "    ''', \n",
    "    sqliteConnection\n",
    ")"
   ]
  },
  {
   "cell_type": "markdown",
   "id": "baa0c7b4",
   "metadata": {},
   "source": [
    "## Model Dataset Preprocessing"
   ]
  },
  {
   "cell_type": "markdown",
   "id": "2da0c660",
   "metadata": {},
   "source": [
    "### Set X and y Variables/Train Test Split"
   ]
  },
  {
   "cell_type": "code",
   "execution_count": 46,
   "id": "885d18c4",
   "metadata": {
    "ExecuteTime": {
     "end_time": "2024-05-23T11:54:30.889891Z",
     "start_time": "2024-05-23T11:54:30.860886Z"
    }
   },
   "outputs": [
    {
     "data": {
      "text/html": [
       "<div>\n",
       "<style scoped>\n",
       "    .dataframe tbody tr th:only-of-type {\n",
       "        vertical-align: middle;\n",
       "    }\n",
       "\n",
       "    .dataframe tbody tr th {\n",
       "        vertical-align: top;\n",
       "    }\n",
       "\n",
       "    .dataframe thead th {\n",
       "        text-align: right;\n",
       "    }\n",
       "</style>\n",
       "<table border=\"1\" class=\"dataframe\">\n",
       "  <thead>\n",
       "    <tr style=\"text-align: right;\">\n",
       "      <th></th>\n",
       "      <th>age</th>\n",
       "      <th>dx</th>\n",
       "      <th>leg</th>\n",
       "      <th>waist</th>\n",
       "      <th>sub</th>\n",
       "      <th>gh</th>\n",
       "      <th>albumin</th>\n",
       "      <th>bun</th>\n",
       "    </tr>\n",
       "  </thead>\n",
       "  <tbody>\n",
       "    <tr>\n",
       "      <th>0</th>\n",
       "      <td>34.166667</td>\n",
       "      <td>0</td>\n",
       "      <td>41.5</td>\n",
       "      <td>100.4</td>\n",
       "      <td>24.9</td>\n",
       "      <td>5.2</td>\n",
       "      <td>4.8</td>\n",
       "      <td>6.0</td>\n",
       "    </tr>\n",
       "    <tr>\n",
       "      <th>1</th>\n",
       "      <td>16.833333</td>\n",
       "      <td>0</td>\n",
       "      <td>42.0</td>\n",
       "      <td>74.7</td>\n",
       "      <td>10.5</td>\n",
       "      <td>5.7</td>\n",
       "      <td>4.6</td>\n",
       "      <td>9.0</td>\n",
       "    </tr>\n",
       "    <tr>\n",
       "      <th>2</th>\n",
       "      <td>60.166667</td>\n",
       "      <td>1</td>\n",
       "      <td>35.3</td>\n",
       "      <td>118.2</td>\n",
       "      <td>35.6</td>\n",
       "      <td>6.0</td>\n",
       "      <td>3.9</td>\n",
       "      <td>10.0</td>\n",
       "    </tr>\n",
       "    <tr>\n",
       "      <th>3</th>\n",
       "      <td>26.083333</td>\n",
       "      <td>0</td>\n",
       "      <td>41.7</td>\n",
       "      <td>103.7</td>\n",
       "      <td>23.2</td>\n",
       "      <td>5.1</td>\n",
       "      <td>4.2</td>\n",
       "      <td>8.0</td>\n",
       "    </tr>\n",
       "    <tr>\n",
       "      <th>4</th>\n",
       "      <td>49.666667</td>\n",
       "      <td>0</td>\n",
       "      <td>37.5</td>\n",
       "      <td>107.8</td>\n",
       "      <td>28.0</td>\n",
       "      <td>5.3</td>\n",
       "      <td>4.3</td>\n",
       "      <td>13.0</td>\n",
       "    </tr>\n",
       "    <tr>\n",
       "      <th>...</th>\n",
       "      <td>...</td>\n",
       "      <td>...</td>\n",
       "      <td>...</td>\n",
       "      <td>...</td>\n",
       "      <td>...</td>\n",
       "      <td>...</td>\n",
       "      <td>...</td>\n",
       "      <td>...</td>\n",
       "    </tr>\n",
       "    <tr>\n",
       "      <th>6790</th>\n",
       "      <td>33.000000</td>\n",
       "      <td>0</td>\n",
       "      <td>34.4</td>\n",
       "      <td>112.3</td>\n",
       "      <td>28.5</td>\n",
       "      <td>5.4</td>\n",
       "      <td>4.1</td>\n",
       "      <td>10.0</td>\n",
       "    </tr>\n",
       "    <tr>\n",
       "      <th>6791</th>\n",
       "      <td>48.916667</td>\n",
       "      <td>1</td>\n",
       "      <td>33.9</td>\n",
       "      <td>99.4</td>\n",
       "      <td>25.4</td>\n",
       "      <td>5.5</td>\n",
       "      <td>4.1</td>\n",
       "      <td>7.0</td>\n",
       "    </tr>\n",
       "    <tr>\n",
       "      <th>6792</th>\n",
       "      <td>27.500000</td>\n",
       "      <td>0</td>\n",
       "      <td>35.3</td>\n",
       "      <td>73.2</td>\n",
       "      <td>6.8</td>\n",
       "      <td>5.6</td>\n",
       "      <td>4.5</td>\n",
       "      <td>11.0</td>\n",
       "    </tr>\n",
       "    <tr>\n",
       "      <th>6793</th>\n",
       "      <td>75.750000</td>\n",
       "      <td>0</td>\n",
       "      <td>38.6</td>\n",
       "      <td>104.0</td>\n",
       "      <td>21.1</td>\n",
       "      <td>5.4</td>\n",
       "      <td>4.0</td>\n",
       "      <td>19.0</td>\n",
       "    </tr>\n",
       "    <tr>\n",
       "      <th>6794</th>\n",
       "      <td>63.583333</td>\n",
       "      <td>1</td>\n",
       "      <td>31.4</td>\n",
       "      <td>102.1</td>\n",
       "      <td>19.7</td>\n",
       "      <td>6.7</td>\n",
       "      <td>4.3</td>\n",
       "      <td>15.0</td>\n",
       "    </tr>\n",
       "  </tbody>\n",
       "</table>\n",
       "<p>6795 rows × 8 columns</p>\n",
       "</div>"
      ],
      "text/plain": [
       "            age  dx   leg  waist   sub   gh  albumin   bun\n",
       "0     34.166667   0  41.5  100.4  24.9  5.2      4.8   6.0\n",
       "1     16.833333   0  42.0   74.7  10.5  5.7      4.6   9.0\n",
       "2     60.166667   1  35.3  118.2  35.6  6.0      3.9  10.0\n",
       "3     26.083333   0  41.7  103.7  23.2  5.1      4.2   8.0\n",
       "4     49.666667   0  37.5  107.8  28.0  5.3      4.3  13.0\n",
       "...         ...  ..   ...    ...   ...  ...      ...   ...\n",
       "6790  33.000000   0  34.4  112.3  28.5  5.4      4.1  10.0\n",
       "6791  48.916667   1  33.9   99.4  25.4  5.5      4.1   7.0\n",
       "6792  27.500000   0  35.3   73.2   6.8  5.6      4.5  11.0\n",
       "6793  75.750000   0  38.6  104.0  21.1  5.4      4.0  19.0\n",
       "6794  63.583333   1  31.4  102.1  19.7  6.7      4.3  15.0\n",
       "\n",
       "[6795 rows x 8 columns]"
      ]
     },
     "execution_count": 46,
     "metadata": {},
     "output_type": "execute_result"
    }
   ],
   "source": [
    "data_model"
   ]
  },
  {
   "cell_type": "code",
   "execution_count": 47,
   "id": "301d27bc",
   "metadata": {
    "ExecuteTime": {
     "end_time": "2024-05-23T11:54:30.904895Z",
     "start_time": "2024-05-23T11:54:30.891893Z"
    }
   },
   "outputs": [],
   "source": [
    "# Set X and y variables\n",
    "\n",
    "X=data_model.drop('dx',axis=1)\n",
    "y=data_model['dx']\n",
    "\n",
    "#Train test split\n",
    "X_train, X_test, y_train,y_test =train_test_split(\n",
    "    X,\n",
    "    y,\n",
    "    stratify=y,\n",
    "    test_size = 0.2,\n",
    "    random_state=42,\n",
    ")"
   ]
  },
  {
   "cell_type": "code",
   "execution_count": 48,
   "id": "608305d2",
   "metadata": {
    "ExecuteTime": {
     "end_time": "2024-05-23T11:54:30.920899Z",
     "start_time": "2024-05-23T11:54:30.905896Z"
    }
   },
   "outputs": [
    {
     "name": "stdout",
     "output_type": "stream",
     "text": [
      "(5436,)\n",
      "(1359,)\n",
      "(5436, 7)\n",
      "(1359, 7)\n",
      "0    4705\n",
      "1     731\n",
      "Name: dx, dtype: int64\n",
      "0    0.865526\n",
      "1    0.134474\n",
      "Name: dx, dtype: float64\n",
      "0    1176\n",
      "1     183\n",
      "Name: dx, dtype: int64\n",
      "0    0.865342\n",
      "1    0.134658\n",
      "Name: dx, dtype: float64\n"
     ]
    }
   ],
   "source": [
    "#checking for the shape and class distribution\n",
    "print(y_train.shape)\n",
    "print(y_test.shape)\n",
    "print(X_train.shape)\n",
    "print(X_test.shape)\n",
    "print(y_train.value_counts())\n",
    "print(y_train.value_counts(normalize=True))\n",
    "print(y_test.value_counts())\n",
    "print(y_test.value_counts(normalize=True))"
   ]
  },
  {
   "cell_type": "markdown",
   "id": "15efd586",
   "metadata": {},
   "source": [
    "The shape of both post-split train and test sets were verified to ensure the they are aligned. Based on value count result, we found that proportion of negative classes is around 87% and the positive classes is around 13%, which is characteristic of imbalanced classes in this dataset as described in the previous section."
   ]
  },
  {
   "cell_type": "markdown",
   "id": "bf9eac2f",
   "metadata": {},
   "source": [
    "### Standardization\n"
   ]
  },
  {
   "cell_type": "code",
   "execution_count": 49,
   "id": "5e44b74f",
   "metadata": {
    "ExecuteTime": {
     "end_time": "2024-05-23T11:54:30.936328Z",
     "start_time": "2024-05-23T11:54:30.921900Z"
    }
   },
   "outputs": [],
   "source": [
    "ss=StandardScaler()\n",
    "X_train_sc=ss.fit_transform(X_train)\n",
    "X_test_sc=ss.transform(X_test)"
   ]
  },
  {
   "cell_type": "markdown",
   "id": "79cd0621",
   "metadata": {},
   "source": [
    "Data standardization is the process of rescaling the attributes so that they have mean as 0 and variance as 1. The ultimate goal to perform standardization is to bring down all the features to a common scale without distorting the differences in the range of the values. This helps in terms of reducing computation time as the model will converge faster, as well as improving the accuracy of the model as the variance of all features are on the same scale. (source: https://medium.com/analytics-vidhya/what-is-the-use-of-data-standardization-and-where-do-we-use-it-in-machine-learning-97b71a294e24)"
   ]
  },
  {
   "cell_type": "markdown",
   "id": "8deb2b45",
   "metadata": {},
   "source": [
    "## Modelling"
   ]
  },
  {
   "cell_type": "markdown",
   "id": "71703044",
   "metadata": {},
   "source": [
    "### Base Model"
   ]
  },
  {
   "cell_type": "markdown",
   "id": "91a9e0d0",
   "metadata": {},
   "source": [
    "I will first perform a Logistic Regression with default parameters to obtain a Base Model to compare our subsequent models' metrics to. Sensitivity, Accuracy, Specificity, Precision, F1 Score, Train Score, Test Score and ROC AUC will be measured for each model to compare performance."
   ]
  },
  {
   "cell_type": "code",
   "execution_count": 50,
   "id": "29e8f505",
   "metadata": {
    "ExecuteTime": {
     "end_time": "2024-05-23T11:54:30.966925Z",
     "start_time": "2024-05-23T11:54:30.937912Z"
    }
   },
   "outputs": [],
   "source": [
    "# Instantiate model.\n",
    "logreg = LogisticRegression(max_iter = 5_000, random_state = 42)\n",
    "\n",
    "# Fit model.\n",
    "logreg.fit(X_train_sc, y_train)\n",
    "\n",
    "# Generate predicted values.\n",
    "preds = logreg.predict(X_test_sc)\n",
    "\n",
    "#Generate predicted probabilities.\n",
    "preds_proba = np.round(logreg.predict_proba(X_test_sc), 3)"
   ]
  },
  {
   "cell_type": "code",
   "execution_count": 51,
   "id": "52414cea",
   "metadata": {
    "ExecuteTime": {
     "end_time": "2024-05-23T11:54:30.982929Z",
     "start_time": "2024-05-23T11:54:30.967926Z"
    }
   },
   "outputs": [
    {
     "data": {
      "text/plain": [
       "{'C': 1.0,\n",
       " 'class_weight': None,\n",
       " 'dual': False,\n",
       " 'fit_intercept': True,\n",
       " 'intercept_scaling': 1,\n",
       " 'l1_ratio': None,\n",
       " 'max_iter': 5000,\n",
       " 'multi_class': 'auto',\n",
       " 'n_jobs': None,\n",
       " 'penalty': 'l2',\n",
       " 'random_state': 42,\n",
       " 'solver': 'lbfgs',\n",
       " 'tol': 0.0001,\n",
       " 'verbose': 0,\n",
       " 'warm_start': False}"
      ]
     },
     "execution_count": 51,
     "metadata": {},
     "output_type": "execute_result"
    }
   ],
   "source": [
    "logreg.get_params()"
   ]
  },
  {
   "cell_type": "code",
   "execution_count": 89,
   "id": "f62aeba4",
   "metadata": {
    "ExecuteTime": {
     "end_time": "2024-05-23T15:16:05.785298Z",
     "start_time": "2024-05-23T15:16:05.770294Z"
    }
   },
   "outputs": [
    {
     "name": "stdout",
     "output_type": "stream",
     "text": [
      "\u001b[4mLogistic Regression\u001b[0m\n",
      "Sensitivity: 0.5081967213114754\n",
      "Accuracy: 0.8395879323031641\n",
      "Specificity: 0.891156462585034\n",
      "Precision: 0.42081447963800905\n",
      "f1 score: 0.4603960396039604\n",
      "Train score: 0.9059970566593083\n",
      "Test score: 0.8984547461368654\n",
      "ROC AUC: 0.8961609233857478\n"
     ]
    }
   ],
   "source": [
    "#metrics calculations\n",
    "tn, fp, fn, tp = confusion_matrix(y_test, preds).ravel()\n",
    "acc = (tp + tn) / (tn + fp + fn + tp)\n",
    "misclass = 1 - acc\n",
    "sens = tp / (tp + fn)\n",
    "spec = tn / (tn + fp)\n",
    "prec = tp / (tp + fp)\n",
    "f_one_score = f1_score(y_test, preds)\n",
    "roc_auc = roc_auc_score(y_test, logreg.predict_proba(X_test_sc)[:,1])\n",
    "\n",
    "#printing out the scores\n",
    "print('\\033[4mLogistic Regression\\033[0m')\n",
    "print('Sensitivity:', sens)\n",
    "print('Accuracy:',acc)\n",
    "print('Specificity:',spec)\n",
    "print('Precision:',prec)\n",
    "print('f1 score:',f_one_score)\n",
    "print('Train score: {}'.format(logreg.score(X_train_sc, y_train)))\n",
    "print('Test score: {}'.format(logreg.score(X_test_sc, y_test)))\n",
    "print('ROC AUC:',roc_auc)\n"
   ]
  },
  {
   "cell_type": "code",
   "execution_count": 54,
   "id": "e1ee6b8d",
   "metadata": {
    "ExecuteTime": {
     "end_time": "2024-05-23T11:54:31.251575Z",
     "start_time": "2024-05-23T11:54:31.013522Z"
    }
   },
   "outputs": [
    {
     "data": {
      "image/png": "[encoded data removed]",
      "text/plain": [
       "<Figure size 1224x360 with 3 Axes>"
      ]
     },
     "metadata": {
      "needs_background": "light"
     },
     "output_type": "display_data"
    }
   ],
   "source": [
    "fig, axes = plt.subplots(ncols=2, figsize=(17,5))\n",
    "cm_chart = plot_confusion_matrix(logreg, X_test_sc, y_test, cmap='Blues', values_format='d', ax=axes[0]);\n",
    "axes[0].title.set_text('Confusion Matrix')\n",
    "roc_curve = plot_roc_curve(logreg, X_test_sc, y_test, ax=axes[1])\n",
    "axes[1].plot([0, 1], [0, 1], label='baseline', linestyle='--' )\n",
    "axes[1].title.set_text('ROC AUC Curve Chart')\n",
    "\n",
    "fig.tight_layout()"
   ]
  },
  {
   "cell_type": "markdown",
   "id": "c3b8d31c",
   "metadata": {},
   "source": [
    "Based on the results, we have Train score=0.906 and Test score=0.899, which are normally good results. However, the reported accuracy score for both instances are actually close to the baseline class distribution of the Train and Test sets (0: 0.865, 1: 0.135).\n",
    "\n",
    "By taking a closer look, we see that Sensitivity is 0.361 and Precision is 0.759. From the confusion matrix above, we confirmed that this model is not good at predicting a majority of the cases in the positive class (True Positive < False Positive). In real world applications, this model will not be able to correctly predict patients with diabetes, leading to patients not getting the help they need.\n",
    "\n",
    "The reason for this poor result is due to the high imbalanced distribution of positive vs. negative classes mentioned and currently, the number of data in the positive class is not sufficient in providing a good predictive model.\n",
    "\n",
    "There can be several methods that can address this, amongst which are:\n",
    "1) Random over/undersampling of the minority/majority classes,\n",
    "\n",
    "2) Some models' class weight balance parameters (e.g. scale_pos_weight for xgboost),\n",
    "\n",
    "3) Choosing for certain scoring metrics rather than Accuracy, like f1 score.\n",
    "\n",
    "Thus, before moving on to the exploration of models, Synthetic Minority Oversampling Technique (SMOTE) will be employed. This method aims to balance class distribution by randomly increasing minority class by replicating the minority observations (or option 1 in the list above)."
   ]
  },
  {
   "cell_type": "markdown",
   "id": "96ab6aad",
   "metadata": {},
   "source": [
    "### Model Building with Hypertuning"
   ]
  },
  {
   "cell_type": "markdown",
   "id": "24705b08",
   "metadata": {},
   "source": [
    "####  Logistic Regression (with SMOTE)"
   ]
  },
  {
   "cell_type": "code",
   "execution_count": 55,
   "id": "b42c3f04",
   "metadata": {
    "ExecuteTime": {
     "end_time": "2024-05-23T11:54:37.331271Z",
     "start_time": "2024-05-23T11:54:31.253575Z"
    }
   },
   "outputs": [
    {
     "name": "stdout",
     "output_type": "stream",
     "text": [
      "Fitting 5 folds for each of 672 candidates, totalling 3360 fits\n"
     ]
    },
    {
     "data": {
      "text/plain": [
       "GridSearchCV(cv=None, error_score=nan,\n",
       "             estimator=Pipeline(memory=None,\n",
       "                                steps=[('sampling',\n",
       "                                        SMOTE(k_neighbors=5, n_jobs=None,\n",
       "                                              random_state=42,\n",
       "                                              sampling_strategy='auto')),\n",
       "                                       ('logreg',\n",
       "                                        LogisticRegression(C=1.0,\n",
       "                                                           class_weight=None,\n",
       "                                                           dual=False,\n",
       "                                                           fit_intercept=True,\n",
       "                                                           intercept_scaling=1,\n",
       "                                                           l1_ratio=None,\n",
       "                                                           max_iter=100,\n",
       "                                                           multi_class='auto',\n",
       "                                                           n_jobs=None,\n",
       "                                                           penalty='l2',\n",
       "                                                           random_state=4...\n",
       "                                verbose=False),\n",
       "             n_jobs=-1,\n",
       "             param_grid={'logreg__C': [0.001, 0.01, 0.1, 1, 10, 100, 1000],\n",
       "                         'logreg__max_iter': [500, 1000, 2500, 5000],\n",
       "                         'logreg__penalty': ['l2'],\n",
       "                         'logreg__solver': ['lbfgs', 'liblinear'],\n",
       "                         'sampling__k_neighbors': [10, 11, 12, 13, 14, 15],\n",
       "                         'sampling__sampling_strategy': ['auto', 'minority']},\n",
       "             pre_dispatch='2*n_jobs', refit=True, return_train_score=False,\n",
       "             scoring=None, verbose=2)"
      ]
     },
     "execution_count": 55,
     "metadata": {},
     "output_type": "execute_result"
    }
   ],
   "source": [
    "# Creating a pipeline model for SMOTE and Logistic Regression.\n",
    "pipe_smote_logreg = Pipeline([\n",
    "                ('sampling', SMOTE(random_state=42)),\n",
    "                 ('logreg', LogisticRegression(random_state=42))\n",
    "                ])\n",
    "\n",
    "pipe_smote_logreg_params = {\n",
    "    'logreg__solver': ['lbfgs','liblinear'],\n",
    "    'logreg__penalty': ['l2'],\n",
    "    'logreg__C': [0.001, 0.01, 0.1, 1, 10, 100, 1000],\n",
    "    'logreg__max_iter': [500, 1000, 2500, 5000],\n",
    "    'sampling__sampling_strategy': ['auto','minority'],\n",
    "    'sampling__k_neighbors': [10, 11, 12, 13, 14, 15],\n",
    "}\n",
    "\n",
    "gs_smote_logreg = GridSearchCV(pipe_smote_logreg, pipe_smote_logreg_params, verbose=2, n_jobs=-1)\n",
    "\n",
    "gs_smote_logreg.fit(X_train_sc, y_train) "
   ]
  },
  {
   "cell_type": "code",
   "execution_count": 92,
   "id": "c15c576f",
   "metadata": {
    "ExecuteTime": {
     "end_time": "2024-05-23T15:18:58.026262Z",
     "start_time": "2024-05-23T15:18:58.022261Z"
    }
   },
   "outputs": [
    {
     "name": "stdout",
     "output_type": "stream",
     "text": [
      "Best params: {'logreg__C': 1, 'logreg__max_iter': 500, 'logreg__penalty': 'l2', 'logreg__solver': 'lbfgs', 'sampling__k_neighbors': 11, 'sampling__sampling_strategy': 'auto'}\n"
     ]
    }
   ],
   "source": [
    "print(\"Best params: {}\".format(gs_smote_logreg.best_params_))"
   ]
  },
  {
   "cell_type": "code",
   "execution_count": 93,
   "id": "b03c124c",
   "metadata": {
    "ExecuteTime": {
     "end_time": "2024-05-23T15:19:06.395819Z",
     "start_time": "2024-05-23T15:19:06.376814Z"
    }
   },
   "outputs": [
    {
     "name": "stdout",
     "output_type": "stream",
     "text": [
      "\u001b[4mLogistic Regression with Smote\u001b[0m\n",
      "Sensitivity: 0.8032786885245902\n",
      "Accuracy: 0.8410596026490066\n",
      "Specificity: 0.8469387755102041\n",
      "Precision: 0.44954128440366975\n",
      "f1 score: 0.5764705882352942\n",
      "Train score: 0.8243213580280319\n",
      "Test score: 0.8410596026490066\n",
      "ROC AUC: 0.8969136835061894\n"
     ]
    }
   ],
   "source": [
    "#metrics calculations\n",
    "preds = gs_smote_logreg.predict(X_test_sc)\n",
    "tn, fp, fn, tp = confusion_matrix(y_test, preds).ravel()\n",
    "acc = (tp + tn) / (tn + fp + fn + tp)\n",
    "misclass = 1 - acc\n",
    "sens = tp / (tp + fn)\n",
    "spec = tn / (tn + fp)\n",
    "prec = tp / (tp + fp)\n",
    "f_one_score = f1_score(y_test, preds)\n",
    "roc_auc = roc_auc_score(y_test, gs_smote_logreg.predict_proba(X_test_sc)[:,1])\n",
    "\n",
    "#printing out the scores\n",
    "print('\\033[4mLogistic Regression with Smote\\033[0m')\n",
    "print('Sensitivity:', sens)\n",
    "print('Accuracy:',acc)\n",
    "print('Specificity:',spec)\n",
    "print('Precision:',prec)\n",
    "print('f1 score:',f_one_score)\n",
    "print('Train score: {}'.format(gs_smote_logreg.best_score_))\n",
    "print('Test score: {}'.format(gs_smote_logreg.best_estimator_.score(X_test_sc, y_test)))\n",
    "print('ROC AUC:',roc_auc)"
   ]
  },
  {
   "cell_type": "code",
   "execution_count": 58,
   "id": "1901db1c",
   "metadata": {
    "ExecuteTime": {
     "end_time": "2024-05-23T11:54:37.584328Z",
     "start_time": "2024-05-23T11:54:37.364279Z"
    }
   },
   "outputs": [
    {
     "data": {
      "image/png": "[encoded data removed]",
      "text/plain": [
       "<Figure size 1224x360 with 3 Axes>"
      ]
     },
     "metadata": {
      "needs_background": "light"
     },
     "output_type": "display_data"
    }
   ],
   "source": [
    "fig, axes = plt.subplots(ncols=2, figsize=(17,5))\n",
    "    \n",
    "cm_chart = plot_confusion_matrix(gs_smote_logreg, X_test_sc, y_test, cmap='Blues', values_format='d', ax=axes[0]);\n",
    "axes[0].title.set_text('Confusion Matrix')\n",
    "roc_curve = plot_roc_curve(gs_smote_logreg, X_test_sc, y_test, ax=axes[1])\n",
    "axes[1].plot([0, 1], [0, 1], label='baseline', linestyle='--' )\n",
    "axes[1].title.set_text('ROC AUC Curve Chart')\n",
    "fig.tight_layout()"
   ]
  },
  {
   "cell_type": "markdown",
   "id": "db717701",
   "metadata": {},
   "source": [
    "**Summary**\n",
    "\n",
    "For this model, we are re-running Logistic Regression with SMOTE. We see improvement in this model in detecting the minority class although the Accuracy has dropped to 0.841. Despite that, this model has accurately predicted 147 observations with of diabetes present, a marked increase from the Base Model.\n"
   ]
  },
  {
   "cell_type": "markdown",
   "id": "13f4756a",
   "metadata": {},
   "source": [
    "#### Random Forest (with SMOTE)"
   ]
  },
  {
   "cell_type": "code",
   "execution_count": 59,
   "id": "60b516ef",
   "metadata": {
    "ExecuteTime": {
     "end_time": "2024-05-23T11:55:18.962209Z",
     "start_time": "2024-05-23T11:54:37.585329Z"
    }
   },
   "outputs": [
    {
     "name": "stdout",
     "output_type": "stream",
     "text": [
      "Fitting 5 folds for each of 216 candidates, totalling 1080 fits\n"
     ]
    },
    {
     "data": {
      "text/plain": [
       "GridSearchCV(cv=None, error_score=nan,\n",
       "             estimator=Pipeline(memory=None,\n",
       "                                steps=[('sampling',\n",
       "                                        SMOTE(k_neighbors=5, n_jobs=None,\n",
       "                                              random_state=42,\n",
       "                                              sampling_strategy='auto')),\n",
       "                                       ('rf',\n",
       "                                        RandomForestClassifier(bootstrap=True,\n",
       "                                                               ccp_alpha=0.0,\n",
       "                                                               class_weight=None,\n",
       "                                                               criterion='gini',\n",
       "                                                               max_depth=None,\n",
       "                                                               max_features='auto',\n",
       "                                                               max_leaf_nodes=None,\n",
       "                                                               max_samples=None,\n",
       "                                                               min_impurity_decrease=0...\n",
       "                                                               n_jobs=None,\n",
       "                                                               oob_score=False,\n",
       "                                                               random_state=42,\n",
       "                                                               verbose=0,\n",
       "                                                               warm_start=False))],\n",
       "                                verbose=False),\n",
       "             n_jobs=-1,\n",
       "             param_grid={'rf__max_depth': [None, 1, 2, 3, 4, 5],\n",
       "                         'rf__n_estimators': [150, 200, 250],\n",
       "                         'sampling__k_neighbors': [10, 11, 12, 13, 14, 15],\n",
       "                         'sampling__sampling_strategy': ['auto', 'minority']},\n",
       "             pre_dispatch='2*n_jobs', refit=True, return_train_score=False,\n",
       "             scoring=None, verbose=2)"
      ]
     },
     "execution_count": 59,
     "metadata": {},
     "output_type": "execute_result"
    }
   ],
   "source": [
    "# Creating a pipeline model for SMOTE and Random Forest.\n",
    "pipe_smote_rf = Pipeline([\n",
    "                ('sampling', SMOTE(random_state=42)),\n",
    "                  ('rf',RandomForestClassifier(random_state=42))\n",
    "                ])\n",
    "\n",
    "pipe_smote_rf_params = {\n",
    "    'sampling__sampling_strategy': ['auto','minority'],\n",
    "    'sampling__k_neighbors': [10, 11, 12, 13, 14, 15],\n",
    "    'rf__n_estimators': [150, 200, 250],\n",
    "    'rf__max_depth':[None, 1, 2, 3, 4, 5],\n",
    "    \n",
    "}\n",
    "\n",
    "gs_smote_rf = GridSearchCV(pipe_smote_rf, pipe_smote_rf_params, verbose=2, n_jobs=-1)\n",
    "\n",
    "gs_smote_rf.fit(X_train_sc, y_train) "
   ]
  },
  {
   "cell_type": "code",
   "execution_count": 95,
   "id": "793266a3",
   "metadata": {
    "ExecuteTime": {
     "end_time": "2024-05-23T15:20:15.317354Z",
     "start_time": "2024-05-23T15:20:15.302352Z"
    }
   },
   "outputs": [
    {
     "name": "stdout",
     "output_type": "stream",
     "text": [
      "Best params: {'rf__max_depth': None, 'rf__n_estimators': 200, 'sampling__k_neighbors': 13, 'sampling__sampling_strategy': 'auto'}\n"
     ]
    }
   ],
   "source": [
    "print(\"Best params: {}\".format(gs_smote_rf.best_params_))\n"
   ]
  },
  {
   "cell_type": "code",
   "execution_count": 96,
   "id": "03adb953",
   "metadata": {
    "ExecuteTime": {
     "end_time": "2024-05-23T15:20:17.075229Z",
     "start_time": "2024-05-23T15:20:16.936197Z"
    }
   },
   "outputs": [
    {
     "name": "stdout",
     "output_type": "stream",
     "text": [
      "\u001b[4mRandom Forest Classifier with Smote\u001b[0m\n",
      "Sensitivity: 0.639344262295082\n",
      "Accuracy: 0.8991905813097866\n",
      "Specificity: 0.939625850340136\n",
      "Precision: 0.6223404255319149\n",
      "f1 score: 0.6307277628032345\n",
      "Train score: 0.8907286649710484\n",
      "Test score: 0.8991905813097866\n",
      "ROC AUC: 0.8841376714620274\n"
     ]
    }
   ],
   "source": [
    "# for sorting out later, to confirm how we want to present modeling\n",
    "preds = gs_smote_rf.predict(X_test_sc)\n",
    "tn, fp, fn, tp = confusion_matrix(y_test, preds).ravel()\n",
    "acc = (tp + tn) / (tn + fp + fn + tp)\n",
    "misclass = 1 - acc\n",
    "sens = tp / (tp + fn)\n",
    "spec = tn / (tn + fp)\n",
    "prec = tp / (tp + fp)\n",
    "f_one_score = f1_score(y_test, preds)\n",
    "roc_auc = roc_auc_score(y_test, gs_smote_rf.predict_proba(X_test_sc)[:,1])\n",
    "\n",
    "#printing out the scores\n",
    "print('\\033[4mRandom Forest Classifier with Smote\\033[0m')\n",
    "print('Sensitivity:', sens)\n",
    "print('Accuracy:',acc)\n",
    "print('Specificity:',spec)\n",
    "print('Precision:',prec)\n",
    "print('f1 score:',f_one_score)\n",
    "print('Train score: {}'.format(gs_smote_rf.best_score_))\n",
    "print('Test score: {}'.format(gs_smote_rf.best_estimator_.score(X_test_sc, y_test)))\n",
    "print('ROC AUC:',roc_auc)\n"
   ]
  },
  {
   "cell_type": "code",
   "execution_count": 62,
   "id": "220ebb6e",
   "metadata": {
    "ExecuteTime": {
     "end_time": "2024-05-23T11:55:19.438318Z",
     "start_time": "2024-05-23T11:55:19.123246Z"
    },
    "scrolled": false
   },
   "outputs": [
    {
     "data": {
      "image/png": "[encoded data removed]",
      "text/plain": [
       "<Figure size 1224x360 with 3 Axes>"
      ]
     },
     "metadata": {
      "needs_background": "light"
     },
     "output_type": "display_data"
    }
   ],
   "source": [
    "fig, axes = plt.subplots(ncols=2, figsize=(17,5))\n",
    "    \n",
    "cm_chart = plot_confusion_matrix(gs_smote_rf, X_test_sc, y_test, cmap='Blues', values_format='d', ax=axes[0]);\n",
    "axes[0].title.set_text('Confusion Matrix')\n",
    "roc_curve = plot_roc_curve(gs_smote_rf, X_test_sc, y_test, ax=axes[1])\n",
    "axes[1].plot([0, 1], [0, 1], label='baseline', linestyle='--' )\n",
    "axes[1].title.set_text('ROC AUC Curve Chart')\n",
    "fig.tight_layout()\n"
   ]
  },
  {
   "cell_type": "markdown",
   "id": "46b6d061",
   "metadata": {},
   "source": [
    "**Summary**\n",
    "\n",
    "We are using Random Forest for this model with no change in input variables. We have increased the Accuracy Score. However, both the ROC AUC and Sensitivity scores have decreased. This can be seen by the model only able to predict correctly 117 observations in the positive class."
   ]
  },
  {
   "cell_type": "markdown",
   "id": "2cd7d275",
   "metadata": {},
   "source": [
    "#### Decision Tree (with SMOTE)"
   ]
  },
  {
   "cell_type": "code",
   "execution_count": 63,
   "id": "b4586512",
   "metadata": {
    "ExecuteTime": {
     "end_time": "2024-05-23T11:55:28.136775Z",
     "start_time": "2024-05-23T11:55:19.439318Z"
    }
   },
   "outputs": [
    {
     "name": "stdout",
     "output_type": "stream",
     "text": [
      "Fitting 5 folds for each of 1512 candidates, totalling 7560 fits\n"
     ]
    },
    {
     "data": {
      "text/plain": [
       "GridSearchCV(cv=None, error_score=nan,\n",
       "             estimator=Pipeline(memory=None,\n",
       "                                steps=[('sampling',\n",
       "                                        SMOTE(k_neighbors=5, n_jobs=None,\n",
       "                                              random_state=42,\n",
       "                                              sampling_strategy='auto')),\n",
       "                                       ('dt',\n",
       "                                        DecisionTreeClassifier(ccp_alpha=0.0,\n",
       "                                                               class_weight=None,\n",
       "                                                               criterion='gini',\n",
       "                                                               max_depth=None,\n",
       "                                                               max_features=None,\n",
       "                                                               max_leaf_nodes=None,\n",
       "                                                               min_impurity_decrease=0.0,\n",
       "                                                               min_samples_leaf=1,\n",
       "                                                               min_samples_...\n",
       "                                                               splitter='best'))],\n",
       "                                verbose=False),\n",
       "             n_jobs=-1,\n",
       "             param_grid={'dt__criterion': ['gini', 'entropy', 'log_loss'],\n",
       "                         'dt__max_depth': [None, 1, 2, 3, 4, 5],\n",
       "                         'dt__min_samples_split': [2, 3, 4, 5, 10, 20, 30],\n",
       "                         'sampling__k_neighbors': [10, 11, 12, 13, 14, 15],\n",
       "                         'sampling__sampling_strategy': ['auto', 'minority']},\n",
       "             pre_dispatch='2*n_jobs', refit=True, return_train_score=False,\n",
       "             scoring=None, verbose=2)"
      ]
     },
     "execution_count": 63,
     "metadata": {},
     "output_type": "execute_result"
    }
   ],
   "source": [
    "# Creating a pipeline model for SMOTE and Decision Tree.\n",
    "pipe_smote_dt = Pipeline([\n",
    "                ('sampling', SMOTE(random_state=42)),\n",
    "                  ('dt',DecisionTreeClassifier(random_state=42))\n",
    "                ])\n",
    "\n",
    "pipe_smote_dt_params = {\n",
    "    'sampling__sampling_strategy': ['auto','minority'],\n",
    "    'sampling__k_neighbors': [10, 11, 12, 13, 14, 15],\n",
    "    'dt__criterion': ['gini', 'entropy', 'log_loss'],\n",
    "    'dt__max_depth': [None, 1, 2, 3, 4, 5],\n",
    "    'dt__min_samples_split': [2, 3, 4, 5, 10, 20, 30]    \n",
    "}\n",
    "\n",
    "gs_smote_dt = GridSearchCV(pipe_smote_dt, pipe_smote_dt_params, verbose=2, n_jobs=-1)\n",
    "\n",
    "gs_smote_dt.fit(X_train_sc, y_train) "
   ]
  },
  {
   "cell_type": "code",
   "execution_count": 98,
   "id": "10d0c4b0",
   "metadata": {
    "ExecuteTime": {
     "end_time": "2024-05-23T15:21:16.189417Z",
     "start_time": "2024-05-23T15:21:16.181416Z"
    }
   },
   "outputs": [
    {
     "name": "stdout",
     "output_type": "stream",
     "text": [
      "Best params: {'dt__criterion': 'gini', 'dt__max_depth': None, 'dt__min_samples_split': 2, 'sampling__k_neighbors': 10, 'sampling__sampling_strategy': 'auto'}\n"
     ]
    }
   ],
   "source": [
    "print(\"Best params: {}\".format(gs_smote_dt.best_params_))"
   ]
  },
  {
   "cell_type": "code",
   "execution_count": 99,
   "id": "a001958f",
   "metadata": {
    "ExecuteTime": {
     "end_time": "2024-05-23T15:21:17.332361Z",
     "start_time": "2024-05-23T15:21:17.310356Z"
    }
   },
   "outputs": [
    {
     "name": "stdout",
     "output_type": "stream",
     "text": [
      "\u001b[4mDecision Tree Classifier with Smote\u001b[0m\n",
      "Sensitivity: 0.5081967213114754\n",
      "Accuracy: 0.8395879323031641\n",
      "Specificity: 0.891156462585034\n",
      "Precision: 0.42081447963800905\n",
      "f1 score: 0.4603960396039604\n",
      "Train score: 0.8427153796201093\n",
      "Test score: 0.8395879323031641\n",
      "ROC AUC: 0.6996765919482547\n"
     ]
    }
   ],
   "source": [
    "# for sorting out later, to confirm how we want to present modeling\n",
    "preds = gs_smote_dt.predict(X_test_sc)\n",
    "tn, fp, fn, tp = confusion_matrix(y_test, preds).ravel()\n",
    "acc = (tp + tn) / (tn + fp + fn + tp)\n",
    "misclass = 1 - acc\n",
    "sens = tp / (tp + fn)\n",
    "spec = tn / (tn + fp)\n",
    "prec = tp / (tp + fp)\n",
    "f_one_score = f1_score(y_test, preds)\n",
    "roc_auc = roc_auc_score(y_test, gs_smote_dt.predict_proba(X_test_sc)[:,1])\n",
    "\n",
    "#printing out the scores\n",
    "print('\\033[4mDecision Tree Classifier with Smote\\033[0m')\n",
    "print('Sensitivity:', sens)\n",
    "print('Accuracy:',acc)\n",
    "print('Specificity:',spec)\n",
    "print('Precision:',prec)\n",
    "print('f1 score:',f_one_score)\n",
    "print('Train score: {}'.format(gs_smote_dt.best_score_))\n",
    "print('Test score: {}'.format(gs_smote_dt.best_estimator_.score(X_test_sc, y_test)))\n",
    "print('ROC AUC:',roc_auc)\n",
    "\n"
   ]
  },
  {
   "cell_type": "code",
   "execution_count": 66,
   "id": "a3ee751a",
   "metadata": {
    "ExecuteTime": {
     "end_time": "2024-05-23T11:55:28.403627Z",
     "start_time": "2024-05-23T11:55:28.169575Z"
    },
    "scrolled": false
   },
   "outputs": [
    {
     "data": {
      "image/png": "[encoded data removed]",
      "text/plain": [
       "<Figure size 1224x360 with 3 Axes>"
      ]
     },
     "metadata": {
      "needs_background": "light"
     },
     "output_type": "display_data"
    }
   ],
   "source": [
    "fig, axes = plt.subplots(ncols=2, figsize=(17,5))\n",
    "    \n",
    "cm_chart = plot_confusion_matrix(gs_smote_dt, X_test_sc, y_test, cmap='Blues', values_format='d', ax=axes[0]);\n",
    "axes[0].title.set_text('Confusion Matrix')\n",
    "roc_curve = plot_roc_curve(gs_smote_dt, X_test_sc, y_test, ax=axes[1])\n",
    "axes[1].plot([0, 1], [0, 1], label='baseline', linestyle='--' )\n",
    "axes[1].title.set_text('ROC AUC Curve Chart')\n",
    "fig.tight_layout()\n"
   ]
  },
  {
   "cell_type": "markdown",
   "id": "5d0ee041",
   "metadata": {},
   "source": [
    "**Summary**\n",
    "\n",
    "For Decision Tree, even with hypertuning, scores have reduced across the board. As such, this model performs poorly as compared to the previous ones."
   ]
  },
  {
   "cell_type": "markdown",
   "id": "e9375153",
   "metadata": {},
   "source": [
    "#### Summary of Results"
   ]
  },
  {
   "cell_type": "markdown",
   "id": "ac117c91",
   "metadata": {},
   "source": [
    "|Model|---|HyperParameters|Sensitivity|Accuracy|Specificity|Precision|F1 Score|Train Score|Test Score|ROC AUC|Remarks|\n",
    "|---|---|---|---|---|---|---|---|---|---|---|---|\n",
    "|Base Model|Logistic Regression|---|0.361|0.898|0.982|0.759|0.489|0.906|0.899|0.896|---|\n",
    "|Model 1|Logistic Regression,SMOTE|'logreg__C': 1, 'logreg__max_iter': 500, 'logreg__penalty': 'l2', 'logreg__solver': 'lbfgs', 'sampling__k_neighbors': 11, 'sampling__sampling_strategy': 'auto'|0.803|0.841|0.847|0.450|0.576|0.824|0.841|0.897|Best Model|\n",
    "|Model 2|Random Forest,SMOTE|'rf__max_depth': None, 'rf__n_estimators': 200, 'sampling__k_neighbors': 13, 'sampling__sampling_strategy': 'auto'|0.639|0.899|0.939|0.622|0.631|0.891|0.899|0.884|---|\n",
    "|Model 3|Decision Tree,SMOTE|'dt__criterion': 'gini', 'dt__max_depth': None, 'dt__min_samples_split': 2, 'sampling__k_neighbors': 10, 'sampling__sampling_strategy': 'auto'|0.508|0.839|0.891|0.421|0.460|0.843|0.840|0.700|---|"
   ]
  },
  {
   "cell_type": "markdown",
   "id": "542a9793",
   "metadata": {},
   "source": [
    "As mentioned, inability to correctly identify true positives will lead to patients who are diabetic not getting the help they need when we use this model in a real world setting. I believe that letting patients being undiagnosed is costlier to Public Health as compared to the increase in number of doctor's appointments, especially if look at the situation in the lens of preventive care.\n",
    "\n",
    "Hence, picking out best model out of the three will depend on the Sensitivity and ROC AUC scores (reduce Type II errors (False Negatives)). Thus, Model 1 (Logistic Regression, SMOTE) is the best model out of the three, with the highest score for both (Sensitivity = 0.803, ROC AUC = 0.897).\n",
    "\n",
    "Should the model were to be published/pushed to production, the model will have to be retrained on the whole dataset (prior to train-test split). "
   ]
  },
  {
   "cell_type": "markdown",
   "id": "9c413b0e",
   "metadata": {},
   "source": [
    "## Feature Importance Analysis"
   ]
  },
  {
   "cell_type": "code",
   "execution_count": 87,
   "id": "3ca2d80d",
   "metadata": {
    "ExecuteTime": {
     "end_time": "2024-05-23T14:39:20.497809Z",
     "start_time": "2024-05-23T14:39:20.487808Z"
    }
   },
   "outputs": [
    {
     "data": {
      "text/html": [
       "<div>\n",
       "<style scoped>\n",
       "    .dataframe tbody tr th:only-of-type {\n",
       "        vertical-align: middle;\n",
       "    }\n",
       "\n",
       "    .dataframe tbody tr th {\n",
       "        vertical-align: top;\n",
       "    }\n",
       "\n",
       "    .dataframe thead th {\n",
       "        text-align: right;\n",
       "    }\n",
       "</style>\n",
       "<table border=\"1\" class=\"dataframe\">\n",
       "  <thead>\n",
       "    <tr style=\"text-align: right;\">\n",
       "      <th></th>\n",
       "      <th>Features</th>\n",
       "      <th>Coeff</th>\n",
       "    </tr>\n",
       "  </thead>\n",
       "  <tbody>\n",
       "    <tr>\n",
       "      <th>4</th>\n",
       "      <td>gh</td>\n",
       "      <td>1.461149</td>\n",
       "    </tr>\n",
       "    <tr>\n",
       "      <th>0</th>\n",
       "      <td>age</td>\n",
       "      <td>0.521464</td>\n",
       "    </tr>\n",
       "    <tr>\n",
       "      <th>2</th>\n",
       "      <td>waist</td>\n",
       "      <td>0.350033</td>\n",
       "    </tr>\n",
       "    <tr>\n",
       "      <th>3</th>\n",
       "      <td>sub</td>\n",
       "      <td>0.263995</td>\n",
       "    </tr>\n",
       "    <tr>\n",
       "      <th>6</th>\n",
       "      <td>bun</td>\n",
       "      <td>0.097483</td>\n",
       "    </tr>\n",
       "    <tr>\n",
       "      <th>5</th>\n",
       "      <td>albumin</td>\n",
       "      <td>0.029451</td>\n",
       "    </tr>\n",
       "    <tr>\n",
       "      <th>1</th>\n",
       "      <td>leg</td>\n",
       "      <td>-0.163320</td>\n",
       "    </tr>\n",
       "  </tbody>\n",
       "</table>\n",
       "</div>"
      ],
      "text/plain": [
       "  Features     Coeff\n",
       "4       gh  1.461149\n",
       "0      age  0.521464\n",
       "2    waist  0.350033\n",
       "3      sub  0.263995\n",
       "6      bun  0.097483\n",
       "5  albumin  0.029451\n",
       "1      leg -0.163320"
      ]
     },
     "execution_count": 87,
     "metadata": {},
     "output_type": "execute_result"
    }
   ],
   "source": [
    "# create table to show the predictors with the highest importance (i.e. strongest predictors of the presence of diabetes)\n",
    "feature_names = X.columns\n",
    "coefficients = pd.DataFrame(np.squeeze(gs_smote_logreg.best_estimator_.named_steps['logreg'].coef_),columns=['Coeff'])\n",
    "features = pd.DataFrame(np.squeeze(feature_names), columns=['Features']) \n",
    "\n",
    "feature_impt = pd.concat([features, coefficients], axis='columns').sort_values('Coeff', ascending=False)\n",
    "\n",
    "feature_impt"
   ]
  },
  {
   "cell_type": "markdown",
   "id": "317602bc",
   "metadata": {},
   "source": [
    "From the table of coefficients, we see that [gh] has a highest coefficient, followed by [age] and then [waist] with [sub] not far behind. The model training resulted in these few features being the most important (note: importance is measure by the absolute value of the coefficient) and is in line with our findings from EDA from the previous section.\n",
    "\n",
    "**Reasons behind Feature Importance**\n",
    "- gh (Glycohemoglobin): The measure of your average level of blood sugar over the past 2-3 months. Thus, it is natural that this measure is the strongest predictor for diabetes.\n",
    "(https://www.webmd.com/diabetes/glycated-hemoglobin-test-hba1c)\n",
    "- age: The prevalence of both type 2 diabetes and prediabetes increases with advancing age leading to deficiency of insulin secretion and growing insulin resistance caused by a change in body composition (due to sarcopaenia).\n",
    "(https://www.ncbi.nlm.nih.gov/pmc/articles/PMC5509969/#:~:text=The%20prevalence%20of%20both%20type,in%20body%20composition%20and%20sarcopaenia.)\n",
    "- waist (Waist Circumference) & sub (Subscapular Skinfold): Directly correlated to body fat percentage. Lean body mass plays a role in reducing blood sugar, while fat tissue reduces insulin secretion, which can in turn lead to hyperglycemia. Thus, a person with greater lean body mass could have a lower risk of developing type 2 diabetes than a person with less lean body mass. (https://www.ncbi.nlm.nih.gov/pmc/articles/PMC6915175/#:~:text=lean%20body%20mass%20plays%20a,with%20less%20lean%20body%20mass.)\n",
    "\n",
    "\n",
    "Thus, one can propose to reduce the amount of measurements done to reduce the patient cost and consultation length (only if the purpose is to do a preliminary test on diabetic risk).\n"
   ]
  }
 ],
 "metadata": {
  "kernelspec": {
   "display_name": "Python 3 (ipykernel)",
   "language": "python",
   "name": "python3"
  },
  "language_info": {
   "codemirror_mode": {
    "name": "ipython",
    "version": 3
   },
   "file_extension": ".py",
   "mimetype": "text/x-python",
   "name": "python",
   "nbconvert_exporter": "python",
   "pygments_lexer": "ipython3",
   "version": "3.8.12"
  },
  "varInspector": {
   "cols": {
    "lenName": 16,
    "lenType": 16,
    "lenVar": 40
   },
   "kernels_config": {
    "python": {
     "delete_cmd_postfix": "",
     "delete_cmd_prefix": "del ",
     "library": "var_list.py",
     "varRefreshCmd": "print(var_dic_list())"
    },
    "r": {
     "delete_cmd_postfix": ") ",
     "delete_cmd_prefix": "rm(",
     "library": "var_list.r",
     "varRefreshCmd": "cat(var_dic_list()) "
    }
   },
   "types_to_exclude": [
    "module",
    "function",
    "builtin_function_or_method",
    "instance",
    "_Feature"
   ],
   "window_display": false
  }
 },
 "nbformat": 4,
 "nbformat_minor": 5
}
