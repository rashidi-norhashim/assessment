{
 "cells": [
  {
   "cell_type": "markdown",
   "id": "aaa0e441",
   "metadata": {},
   "source": [
    "# Part 3 - Modelling"
   ]
  },
  {
   "cell_type": "markdown",
   "id": "da2a67c8",
   "metadata": {},
   "source": [
    "## Importing of Libraries\n"
   ]
  },
  {
   "cell_type": "code",
   "execution_count": 19,
   "id": "5e2bace5",
   "metadata": {
    "ExecuteTime": {
     "end_time": "2024-05-23T15:57:48.170368Z",
     "start_time": "2024-05-23T15:57:46.358940Z"
    }
   },
   "outputs": [],
   "source": [
    "# importing sql libraries\n",
    "import sqlite3\n",
    "\n",
    "#importing libraries required for data analysis\n",
    "import pandas as pd\n",
    "import numpy as np\n",
    "import seaborn as sns\n",
    "import matplotlib.pyplot as plt\n",
    "\n",
    "#importing libraries for model\n",
    "import joblib\n",
    "from sklearn.impute import KNNImputer\n",
    "from sklearn.model_selection import train_test_split, GridSearchCV, cross_val_score\n",
    "from sklearn.linear_model import LogisticRegression\n",
    "from sklearn.preprocessing import StandardScaler\n",
    "from sklearn.metrics import confusion_matrix, ConfusionMatrixDisplay, accuracy_score, RocCurveDisplay, roc_auc_score, recall_score, precision_score, f1_score, precision_recall_curve,average_precision_score, PrecisionRecallDisplay, auc\n",
    "from imblearn.over_sampling import SMOTE\n",
    "from imblearn.pipeline import Pipeline\n",
    "from sklearn.ensemble import RandomForestClassifier\n",
    "from sklearn.tree import DecisionTreeClassifier"
   ]
  },
  {
   "cell_type": "markdown",
   "id": "b6a2d27f",
   "metadata": {},
   "source": [
    "## Importing from SQLite db\n"
   ]
  },
  {
   "cell_type": "code",
   "execution_count": 20,
   "id": "aa0ebfe8",
   "metadata": {
    "ExecuteTime": {
     "end_time": "2024-05-23T15:57:51.101960Z",
     "start_time": "2024-05-23T15:57:50.947930Z"
    }
   },
   "outputs": [],
   "source": [
    "#Connecting to nhgh database \n",
    "sqliteConnection = sqlite3.connect('../data/nhgh.db')\n",
    "\n",
    "#Querying from nhgh database. SELECT only the columns for the model building\n",
    "data_model= pd.read_sql(\n",
    "    '''\n",
    "    SELECT age, dx, leg, waist, sub, gh, albumin, bun\n",
    "    FROM nhgh\n",
    "    ''', \n",
    "    sqliteConnection\n",
    ")"
   ]
  },
  {
   "cell_type": "markdown",
   "id": "baa0c7b4",
   "metadata": {},
   "source": [
    "## Model Dataset Preprocessing"
   ]
  },
  {
   "cell_type": "markdown",
   "id": "2da0c660",
   "metadata": {},
   "source": [
    "### Set X and y Variables/Train Test Split"
   ]
  },
  {
   "cell_type": "code",
   "execution_count": 21,
   "id": "885d18c4",
   "metadata": {
    "ExecuteTime": {
     "end_time": "2024-05-23T11:54:30.889891Z",
     "start_time": "2024-05-23T11:54:30.860886Z"
    }
   },
   "outputs": [
    {
     "data": {
      "text/html": [
       "<div>\n",
       "<style scoped>\n",
       "    .dataframe tbody tr th:only-of-type {\n",
       "        vertical-align: middle;\n",
       "    }\n",
       "\n",
       "    .dataframe tbody tr th {\n",
       "        vertical-align: top;\n",
       "    }\n",
       "\n",
       "    .dataframe thead th {\n",
       "        text-align: right;\n",
       "    }\n",
       "</style>\n",
       "<table border=\"1\" class=\"dataframe\">\n",
       "  <thead>\n",
       "    <tr style=\"text-align: right;\">\n",
       "      <th></th>\n",
       "      <th>age</th>\n",
       "      <th>dx</th>\n",
       "      <th>leg</th>\n",
       "      <th>waist</th>\n",
       "      <th>sub</th>\n",
       "      <th>gh</th>\n",
       "      <th>albumin</th>\n",
       "      <th>bun</th>\n",
       "    </tr>\n",
       "  </thead>\n",
       "  <tbody>\n",
       "    <tr>\n",
       "      <th>0</th>\n",
       "      <td>34.166667</td>\n",
       "      <td>0</td>\n",
       "      <td>41.5</td>\n",
       "      <td>100.4</td>\n",
       "      <td>24.9</td>\n",
       "      <td>5.2</td>\n",
       "      <td>4.8</td>\n",
       "      <td>6.0</td>\n",
       "    </tr>\n",
       "    <tr>\n",
       "      <th>1</th>\n",
       "      <td>16.833333</td>\n",
       "      <td>0</td>\n",
       "      <td>42.0</td>\n",
       "      <td>74.7</td>\n",
       "      <td>10.5</td>\n",
       "      <td>5.7</td>\n",
       "      <td>4.6</td>\n",
       "      <td>9.0</td>\n",
       "    </tr>\n",
       "    <tr>\n",
       "      <th>2</th>\n",
       "      <td>60.166667</td>\n",
       "      <td>1</td>\n",
       "      <td>35.3</td>\n",
       "      <td>118.2</td>\n",
       "      <td>35.6</td>\n",
       "      <td>6.0</td>\n",
       "      <td>3.9</td>\n",
       "      <td>10.0</td>\n",
       "    </tr>\n",
       "    <tr>\n",
       "      <th>3</th>\n",
       "      <td>26.083333</td>\n",
       "      <td>0</td>\n",
       "      <td>41.7</td>\n",
       "      <td>103.7</td>\n",
       "      <td>23.2</td>\n",
       "      <td>5.1</td>\n",
       "      <td>4.2</td>\n",
       "      <td>8.0</td>\n",
       "    </tr>\n",
       "    <tr>\n",
       "      <th>4</th>\n",
       "      <td>49.666667</td>\n",
       "      <td>0</td>\n",
       "      <td>37.5</td>\n",
       "      <td>107.8</td>\n",
       "      <td>28.0</td>\n",
       "      <td>5.3</td>\n",
       "      <td>4.3</td>\n",
       "      <td>13.0</td>\n",
       "    </tr>\n",
       "    <tr>\n",
       "      <th>...</th>\n",
       "      <td>...</td>\n",
       "      <td>...</td>\n",
       "      <td>...</td>\n",
       "      <td>...</td>\n",
       "      <td>...</td>\n",
       "      <td>...</td>\n",
       "      <td>...</td>\n",
       "      <td>...</td>\n",
       "    </tr>\n",
       "    <tr>\n",
       "      <th>6790</th>\n",
       "      <td>33.000000</td>\n",
       "      <td>0</td>\n",
       "      <td>34.4</td>\n",
       "      <td>112.3</td>\n",
       "      <td>NaN</td>\n",
       "      <td>5.4</td>\n",
       "      <td>4.1</td>\n",
       "      <td>10.0</td>\n",
       "    </tr>\n",
       "    <tr>\n",
       "      <th>6791</th>\n",
       "      <td>48.916667</td>\n",
       "      <td>1</td>\n",
       "      <td>33.9</td>\n",
       "      <td>99.4</td>\n",
       "      <td>25.4</td>\n",
       "      <td>5.5</td>\n",
       "      <td>4.1</td>\n",
       "      <td>7.0</td>\n",
       "    </tr>\n",
       "    <tr>\n",
       "      <th>6792</th>\n",
       "      <td>27.500000</td>\n",
       "      <td>0</td>\n",
       "      <td>35.3</td>\n",
       "      <td>73.2</td>\n",
       "      <td>6.8</td>\n",
       "      <td>5.6</td>\n",
       "      <td>4.5</td>\n",
       "      <td>11.0</td>\n",
       "    </tr>\n",
       "    <tr>\n",
       "      <th>6793</th>\n",
       "      <td>75.750000</td>\n",
       "      <td>0</td>\n",
       "      <td>38.6</td>\n",
       "      <td>104.0</td>\n",
       "      <td>21.1</td>\n",
       "      <td>5.4</td>\n",
       "      <td>4.0</td>\n",
       "      <td>19.0</td>\n",
       "    </tr>\n",
       "    <tr>\n",
       "      <th>6794</th>\n",
       "      <td>63.583333</td>\n",
       "      <td>1</td>\n",
       "      <td>31.4</td>\n",
       "      <td>102.1</td>\n",
       "      <td>19.7</td>\n",
       "      <td>6.7</td>\n",
       "      <td>4.3</td>\n",
       "      <td>15.0</td>\n",
       "    </tr>\n",
       "  </tbody>\n",
       "</table>\n",
       "<p>6795 rows × 8 columns</p>\n",
       "</div>"
      ],
      "text/plain": [
       "            age  dx   leg  waist   sub   gh  albumin   bun\n",
       "0     34.166667   0  41.5  100.4  24.9  5.2      4.8   6.0\n",
       "1     16.833333   0  42.0   74.7  10.5  5.7      4.6   9.0\n",
       "2     60.166667   1  35.3  118.2  35.6  6.0      3.9  10.0\n",
       "3     26.083333   0  41.7  103.7  23.2  5.1      4.2   8.0\n",
       "4     49.666667   0  37.5  107.8  28.0  5.3      4.3  13.0\n",
       "...         ...  ..   ...    ...   ...  ...      ...   ...\n",
       "6790  33.000000   0  34.4  112.3   NaN  5.4      4.1  10.0\n",
       "6791  48.916667   1  33.9   99.4  25.4  5.5      4.1   7.0\n",
       "6792  27.500000   0  35.3   73.2   6.8  5.6      4.5  11.0\n",
       "6793  75.750000   0  38.6  104.0  21.1  5.4      4.0  19.0\n",
       "6794  63.583333   1  31.4  102.1  19.7  6.7      4.3  15.0\n",
       "\n",
       "[6795 rows x 8 columns]"
      ]
     },
     "execution_count": 21,
     "metadata": {},
     "output_type": "execute_result"
    }
   ],
   "source": [
    "data_model"
   ]
  },
  {
   "cell_type": "code",
   "execution_count": 22,
   "id": "301d27bc",
   "metadata": {
    "ExecuteTime": {
     "end_time": "2024-05-23T11:54:30.904895Z",
     "start_time": "2024-05-23T11:54:30.891893Z"
    }
   },
   "outputs": [],
   "source": [
    "# Set X and y variables\n",
    "\n",
    "X=data_model.drop('dx',axis=1)\n",
    "y=data_model['dx']\n",
    "\n",
    "#Train test split\n",
    "X_train, X_test, y_train,y_test =train_test_split(\n",
    "    X,\n",
    "    y,\n",
    "    stratify=y,\n",
    "    test_size = 0.2,\n",
    "    random_state=42,\n",
    ")"
   ]
  },
  {
   "cell_type": "code",
   "execution_count": 23,
   "id": "608305d2",
   "metadata": {
    "ExecuteTime": {
     "end_time": "2024-05-23T11:54:30.920899Z",
     "start_time": "2024-05-23T11:54:30.905896Z"
    }
   },
   "outputs": [
    {
     "name": "stdout",
     "output_type": "stream",
     "text": [
      "(5436,)\n",
      "(1359,)\n",
      "(5436, 7)\n",
      "(1359, 7)\n",
      "dx\n",
      "0    4705\n",
      "1     731\n",
      "Name: count, dtype: int64\n",
      "dx\n",
      "0    0.865526\n",
      "1    0.134474\n",
      "Name: proportion, dtype: float64\n",
      "dx\n",
      "0    1176\n",
      "1     183\n",
      "Name: count, dtype: int64\n",
      "dx\n",
      "0    0.865342\n",
      "1    0.134658\n",
      "Name: proportion, dtype: float64\n"
     ]
    }
   ],
   "source": [
    "#checking for the shape and class distribution\n",
    "print(y_train.shape)\n",
    "print(y_test.shape)\n",
    "print(X_train.shape)\n",
    "print(X_test.shape)\n",
    "print(y_train.value_counts())\n",
    "print(y_train.value_counts(normalize=True))\n",
    "print(y_test.value_counts())\n",
    "print(y_test.value_counts(normalize=True))\n"
   ]
  },
  {
   "cell_type": "markdown",
   "id": "15efd586",
   "metadata": {},
   "source": [
    "The shape of both post-split train and test sets were verified to ensure the they are aligned. Based on value count result, we found that proportion of negative classes is around 87% and the positive classes is around 13%, which is characteristic of imbalanced classes in this dataset as described in the previous section."
   ]
  },
  {
   "cell_type": "markdown",
   "id": "bf9eac2f",
   "metadata": {},
   "source": [
    "### Filling of null for Train and Test datasets\n",
    "\n"
   ]
  },
  {
   "cell_type": "markdown",
   "id": "01564868-d379-4f81-a542-70487ad26ac7",
   "metadata": {},
   "source": [
    "In order to prevent data leakage, we have to re-fit and re-transform KNNImputer on both the Train dataset before re-transforming the Test dataset. We cannot use the previous filled up values as there might be interactions across train to the test dataset. "
   ]
  },
  {
   "cell_type": "code",
   "execution_count": 24,
   "id": "cfa62b7c-4b3e-400f-a9e3-6cea6915d08d",
   "metadata": {},
   "outputs": [
    {
     "data": {
      "text/plain": [
       "age          0\n",
       "leg        184\n",
       "waist      186\n",
       "sub        772\n",
       "gh           0\n",
       "albumin     64\n",
       "bun         64\n",
       "dtype: int64"
      ]
     },
     "execution_count": 24,
     "metadata": {},
     "output_type": "execute_result"
    }
   ],
   "source": [
    "X_train.isnull().sum() #checking null value count before values are imputed"
   ]
  },
  {
   "cell_type": "code",
   "execution_count": 25,
   "id": "3b05b1c7-1b42-4255-907d-f2a5362b6694",
   "metadata": {},
   "outputs": [
    {
     "data": {
      "text/plain": [
       "age          0\n",
       "leg         47\n",
       "waist       53\n",
       "sub        199\n",
       "gh           0\n",
       "albumin     25\n",
       "bun         25\n",
       "dtype: int64"
      ]
     },
     "execution_count": 25,
     "metadata": {},
     "output_type": "execute_result"
    }
   ],
   "source": [
    "X_test.isnull().sum() #checking null value count before values are imputed"
   ]
  },
  {
   "cell_type": "code",
   "execution_count": 26,
   "id": "4b590556-cc67-47b0-84fc-f206189f026e",
   "metadata": {},
   "outputs": [],
   "source": [
    "imputer = KNNImputer(n_neighbors=5)\n",
    "X_train = pd.DataFrame(imputer.fit_transform(X_train),columns = X_train.columns)"
   ]
  },
  {
   "cell_type": "code",
   "execution_count": 27,
   "id": "8fb74d39-8599-442e-9290-3a2c85046815",
   "metadata": {},
   "outputs": [],
   "source": [
    "X_test = pd.DataFrame(imputer.transform(X_test),columns = X_test.columns)"
   ]
  },
  {
   "cell_type": "code",
   "execution_count": 28,
   "id": "5682cdb8-3b1d-4fe8-8aad-bcf53dfa18ff",
   "metadata": {},
   "outputs": [
    {
     "data": {
      "text/plain": [
       "age        0\n",
       "leg        0\n",
       "waist      0\n",
       "sub        0\n",
       "gh         0\n",
       "albumin    0\n",
       "bun        0\n",
       "dtype: int64"
      ]
     },
     "execution_count": 28,
     "metadata": {},
     "output_type": "execute_result"
    }
   ],
   "source": [
    "X_train.isnull().sum() #checking after to see if values are imputed"
   ]
  },
  {
   "cell_type": "code",
   "execution_count": 29,
   "id": "c11eb3c9-74c9-46eb-a76f-a16011395a00",
   "metadata": {},
   "outputs": [
    {
     "data": {
      "text/plain": [
       "age        0\n",
       "leg        0\n",
       "waist      0\n",
       "sub        0\n",
       "gh         0\n",
       "albumin    0\n",
       "bun        0\n",
       "dtype: int64"
      ]
     },
     "execution_count": 29,
     "metadata": {},
     "output_type": "execute_result"
    }
   ],
   "source": [
    "X_test.isnull().sum() #checking after to see if values are imputed"
   ]
  },
  {
   "cell_type": "markdown",
   "id": "ebcc052f-8501-4008-a830-3e3f70a86632",
   "metadata": {},
   "source": [
    "### Standardization\n"
   ]
  },
  {
   "cell_type": "code",
   "execution_count": 30,
   "id": "5e44b74f",
   "metadata": {
    "ExecuteTime": {
     "end_time": "2024-05-23T11:54:30.936328Z",
     "start_time": "2024-05-23T11:54:30.921900Z"
    }
   },
   "outputs": [],
   "source": [
    "ss=StandardScaler()\n",
    "X_train_sc=ss.fit_transform(X_train)\n",
    "X_test_sc=ss.transform(X_test)"
   ]
  },
  {
   "cell_type": "markdown",
   "id": "79cd0621",
   "metadata": {},
   "source": [
    "Data standardization is the process of rescaling the attributes so that they have mean as 0 and variance as 1. The ultimate goal to perform standardization is to bring down all the features to a common scale without distorting the differences in the range of the values. This helps in terms of reducing computation time as the model will converge faster, as well as improving the accuracy of the model as the variance of all features are on the same scale. (source: https://medium.com/analytics-vidhya/what-is-the-use-of-data-standardization-and-where-do-we-use-it-in-machine-learning-97b71a294e24)"
   ]
  },
  {
   "cell_type": "markdown",
   "id": "8deb2b45",
   "metadata": {},
   "source": [
    "## Modelling"
   ]
  },
  {
   "cell_type": "markdown",
   "id": "71703044",
   "metadata": {},
   "source": [
    "### Base Model"
   ]
  },
  {
   "cell_type": "markdown",
   "id": "91a9e0d0",
   "metadata": {},
   "source": [
    "I will first perform a Logistic Regression with default parameters to obtain a Base Model to compare our subsequent models' metrics to. Sensitivity, Accuracy, Specificity, Precision, F1 Score, Train Score, Test Score and ROC AUC will be measured for each model to compare performance."
   ]
  },
  {
   "cell_type": "code",
   "execution_count": 31,
   "id": "29e8f505",
   "metadata": {
    "ExecuteTime": {
     "end_time": "2024-05-23T11:54:30.966925Z",
     "start_time": "2024-05-23T11:54:30.937912Z"
    }
   },
   "outputs": [],
   "source": [
    "# Instantiate model.\n",
    "logreg = LogisticRegression(max_iter = 5_000, random_state = 42)\n",
    "\n",
    "# Fit model.\n",
    "logreg.fit(X_train_sc, y_train)\n",
    "\n",
    "# Generate predicted values.\n",
    "preds = logreg.predict(X_test_sc)\n",
    "\n",
    "#Generate predicted probabilities.\n",
    "preds_proba = np.round(logreg.predict_proba(X_test_sc), 3)"
   ]
  },
  {
   "cell_type": "code",
   "execution_count": 32,
   "id": "1a74dd0e-0f86-42f7-947e-718fcb60a43a",
   "metadata": {},
   "outputs": [],
   "source": [
    "xval = cross_val_score(\n",
    "    logreg,\n",
    "    X_train_sc,\n",
    "    y_train,\n",
    "    cv = 5,\n",
    "    scoring = 'roc_auc',\n",
    ").mean()"
   ]
  },
  {
   "cell_type": "code",
   "execution_count": 33,
   "id": "52414cea",
   "metadata": {
    "ExecuteTime": {
     "end_time": "2024-05-23T11:54:30.982929Z",
     "start_time": "2024-05-23T11:54:30.967926Z"
    }
   },
   "outputs": [
    {
     "data": {
      "text/plain": [
       "{'C': 1.0,\n",
       " 'class_weight': None,\n",
       " 'dual': False,\n",
       " 'fit_intercept': True,\n",
       " 'intercept_scaling': 1,\n",
       " 'l1_ratio': None,\n",
       " 'max_iter': 5000,\n",
       " 'multi_class': 'auto',\n",
       " 'n_jobs': None,\n",
       " 'penalty': 'l2',\n",
       " 'random_state': 42,\n",
       " 'solver': 'lbfgs',\n",
       " 'tol': 0.0001,\n",
       " 'verbose': 0,\n",
       " 'warm_start': False}"
      ]
     },
     "execution_count": 33,
     "metadata": {},
     "output_type": "execute_result"
    }
   ],
   "source": [
    "logreg.get_params()"
   ]
  },
  {
   "cell_type": "code",
   "execution_count": 34,
   "id": "f62aeba4",
   "metadata": {
    "ExecuteTime": {
     "end_time": "2024-05-23T15:16:05.785298Z",
     "start_time": "2024-05-23T15:16:05.770294Z"
    }
   },
   "outputs": [
    {
     "name": "stdout",
     "output_type": "stream",
     "text": [
      "\u001b[4mLogistic Regression\u001b[0m\n",
      "Sensitivity: 0.36065573770491804\n",
      "Accuracy: 0.8991905813097866\n",
      "Specificity: 0.9829931972789115\n",
      "Precision: 0.7674418604651163\n",
      "f1 score: 0.4907063197026023\n",
      "AUC_CV: 0.8837369085027923\n",
      "ROC AUC: 0.8955707966246607\n"
     ]
    }
   ],
   "source": [
    "#metrics calculations\n",
    "tn, fp, fn, tp = confusion_matrix(y_test, preds).ravel()\n",
    "acc = (tp + tn) / (tn + fp + fn + tp)\n",
    "misclass = 1 - acc\n",
    "sens = tp / (tp + fn)\n",
    "spec = tn / (tn + fp)\n",
    "prec = tp / (tp + fp)\n",
    "f_one_score = f1_score(y_test, preds)\n",
    "roc_auc = roc_auc_score(y_test, logreg.predict_proba(X_test_sc)[:,1])\n",
    "\n",
    "#printing out the scores\n",
    "print('\\033[4mLogistic Regression\\033[0m')\n",
    "print('Sensitivity:', sens)\n",
    "print('Accuracy:',acc)\n",
    "print('Specificity:',spec)\n",
    "print('Precision:',prec)\n",
    "print('f1 score:',f_one_score)\n",
    "print('AUC_CV: {}'.format(xval))\n",
    "print('ROC AUC:',roc_auc)\n"
   ]
  },
  {
   "cell_type": "code",
   "execution_count": 35,
   "id": "e1ee6b8d",
   "metadata": {
    "ExecuteTime": {
     "end_time": "2024-05-23T11:54:31.251575Z",
     "start_time": "2024-05-23T11:54:31.013522Z"
    }
   },
   "outputs": [
    {
     "data": {
      "image/png": "[encoded data removed]",
      "text/plain": [
       "<Figure size 1700x500 with 3 Axes>"
      ]
     },
     "metadata": {},
     "output_type": "display_data"
    }
   ],
   "source": [
    "fig, axes = plt.subplots(ncols=2, figsize=(17,5))\n",
    "\n",
    "\n",
    "cm_chart = ConfusionMatrixDisplay.from_estimator(logreg, X_test_sc, y_test, cmap='Blues', values_format='d', ax=axes[0]) #plot_confusion_matrix(logreg, X_test_sc, y_test, cmap='Blues', values_format='d', ax=axes[0]);\n",
    "axes[0].title.set_text('Confusion Matrix')\n",
    "roc_curve = RocCurveDisplay.from_estimator(logreg, X_test_sc, y_test, ax=axes[1])\n",
    "axes[1].plot([0, 1], [0, 1], label='baseline', linestyle='--' )\n",
    "axes[1].title.set_text('ROC AUC Curve Chart')\n",
    "\n",
    "fig.tight_layout()"
   ]
  },
  {
   "cell_type": "markdown",
   "id": "c3b8d31c",
   "metadata": {},
   "source": [
    "Based on the results, we have Accuracy = 0.874, which is normally a good result. However, the accuracy score for is actually close to the baseline class distribution of the test set (0: 0.865, 1: 0.135).\n",
    "\n",
    "By taking a closer look, we see that Sensitivity is 0.361 and Precision is 0.767. From the confusion matrix above, we confirmed that this model is not good at predicting a majority of the cases in the positive class (True Positive < False Positive). In real world applications, this model will not be able to correctly predict patients with diabetes, leading to patients not getting the help they need.\n",
    "\n",
    "The reason for this poor result is due to the high imbalanced distribution of positive vs. negative classes mentioned and currently, the number of data in the positive class is not sufficient in providing a good predictive model.\n",
    "\n",
    "There can be several methods that can address this, amongst which are:\n",
    "1) Random over/undersampling of the minority/majority classes,\n",
    "\n",
    "2) Some models' class weight balance parameters (e.g. scale_pos_weight for xgboost),\n",
    "\n",
    "3) Choosing for certain scoring metrics rather than Accuracy, like f1 score.\n",
    "\n",
    "Thus, before moving on to the exploration of models, Synthetic Minority Oversampling Technique (SMOTE) will be employed. This method aims to balance class distribution by randomly increasing minority class by replicating the minority observations (or option 1 in the list above)."
   ]
  },
  {
   "cell_type": "markdown",
   "id": "96ab6aad",
   "metadata": {},
   "source": [
    "### Model Building with Hypertuning"
   ]
  },
  {
   "cell_type": "markdown",
   "id": "b339c2e6-1358-4872-ae56-217c6089e7ac",
   "metadata": {},
   "source": [
    "A pipeline model and GridSearchCV will be used to build the models. Scoring for the cross-validation will employ ROC-AUC as its metric.\n"
   ]
  },
  {
   "cell_type": "markdown",
   "id": "24705b08",
   "metadata": {},
   "source": [
    "####  Logistic Regression (with SMOTE)"
   ]
  },
  {
   "cell_type": "code",
   "execution_count": 36,
   "id": "b42c3f04",
   "metadata": {
    "ExecuteTime": {
     "end_time": "2024-05-23T11:54:37.331271Z",
     "start_time": "2024-05-23T11:54:31.253575Z"
    }
   },
   "outputs": [
    {
     "name": "stdout",
     "output_type": "stream",
     "text": [
      "Fitting 5 folds for each of 672 candidates, totalling 3360 fits\n"
     ]
    },
    {
     "data": {
      "text/html": [
       "<style>#sk-container-id-1 {color: black;}#sk-container-id-1 pre{padding: 0;}#sk-container-id-1 div.sk-toggleable {background-color: white;}#sk-container-id-1 label.sk-toggleable__label {cursor: pointer;display: block;width: 100%;margin-bottom: 0;padding: 0.3em;box-sizing: border-box;text-align: center;}#sk-container-id-1 label.sk-toggleable__label-arrow:before {content: \"▸\";float: left;margin-right: 0.25em;color: #696969;}#sk-container-id-1 label.sk-toggleable__label-arrow:hover:before {color: black;}#sk-container-id-1 div.sk-estimator:hover label.sk-toggleable__label-arrow:before {color: black;}#sk-container-id-1 div.sk-toggleable__content {max-height: 0;max-width: 0;overflow: hidden;text-align: left;background-color: #f0f8ff;}#sk-container-id-1 div.sk-toggleable__content pre {margin: 0.2em;color: black;border-radius: 0.25em;background-color: #f0f8ff;}#sk-container-id-1 input.sk-toggleable__control:checked~div.sk-toggleable__content {max-height: 200px;max-width: 100%;overflow: auto;}#sk-container-id-1 input.sk-toggleable__control:checked~label.sk-toggleable__label-arrow:before {content: \"▾\";}#sk-container-id-1 div.sk-estimator input.sk-toggleable__control:checked~label.sk-toggleable__label {background-color: #d4ebff;}#sk-container-id-1 div.sk-label input.sk-toggleable__control:checked~label.sk-toggleable__label {background-color: #d4ebff;}#sk-container-id-1 input.sk-hidden--visually {border: 0;clip: rect(1px 1px 1px 1px);clip: rect(1px, 1px, 1px, 1px);height: 1px;margin: -1px;overflow: hidden;padding: 0;position: absolute;width: 1px;}#sk-container-id-1 div.sk-estimator {font-family: monospace;background-color: #f0f8ff;border: 1px dotted black;border-radius: 0.25em;box-sizing: border-box;margin-bottom: 0.5em;}#sk-container-id-1 div.sk-estimator:hover {background-color: #d4ebff;}#sk-container-id-1 div.sk-parallel-item::after {content: \"\";width: 100%;border-bottom: 1px solid gray;flex-grow: 1;}#sk-container-id-1 div.sk-label:hover label.sk-toggleable__label {background-color: #d4ebff;}#sk-container-id-1 div.sk-serial::before {content: \"\";position: absolute;border-left: 1px solid gray;box-sizing: border-box;top: 0;bottom: 0;left: 50%;z-index: 0;}#sk-container-id-1 div.sk-serial {display: flex;flex-direction: column;align-items: center;background-color: white;padding-right: 0.2em;padding-left: 0.2em;position: relative;}#sk-container-id-1 div.sk-item {position: relative;z-index: 1;}#sk-container-id-1 div.sk-parallel {display: flex;align-items: stretch;justify-content: center;background-color: white;position: relative;}#sk-container-id-1 div.sk-item::before, #sk-container-id-1 div.sk-parallel-item::before {content: \"\";position: absolute;border-left: 1px solid gray;box-sizing: border-box;top: 0;bottom: 0;left: 50%;z-index: -1;}#sk-container-id-1 div.sk-parallel-item {display: flex;flex-direction: column;z-index: 1;position: relative;background-color: white;}#sk-container-id-1 div.sk-parallel-item:first-child::after {align-self: flex-end;width: 50%;}#sk-container-id-1 div.sk-parallel-item:last-child::after {align-self: flex-start;width: 50%;}#sk-container-id-1 div.sk-parallel-item:only-child::after {width: 0;}#sk-container-id-1 div.sk-dashed-wrapped {border: 1px dashed gray;margin: 0 0.4em 0.5em 0.4em;box-sizing: border-box;padding-bottom: 0.4em;background-color: white;}#sk-container-id-1 div.sk-label label {font-family: monospace;font-weight: bold;display: inline-block;line-height: 1.2em;}#sk-container-id-1 div.sk-label-container {text-align: center;}#sk-container-id-1 div.sk-container {/* jupyter's `normalize.less` sets `[hidden] { display: none; }` but bootstrap.min.css set `[hidden] { display: none !important; }` so we also need the `!important` here to be able to override the default hidden behavior on the sphinx rendered scikit-learn.org. See: https://github.com/scikit-learn/scikit-learn/issues/21755 */display: inline-block !important;position: relative;}#sk-container-id-1 div.sk-text-repr-fallback {display: none;}</style><div id=\"sk-container-id-1\" class=\"sk-top-container\"><div class=\"sk-text-repr-fallback\"><pre>GridSearchCV(estimator=Pipeline(steps=[(&#x27;sampling&#x27;, SMOTE(random_state=42)),\n",
       "                                       (&#x27;logreg&#x27;,\n",
       "                                        LogisticRegression(random_state=42))]),\n",
       "             n_jobs=-1,\n",
       "             param_grid={&#x27;logreg__C&#x27;: [0.001, 0.01, 0.1, 1, 10, 100, 1000],\n",
       "                         &#x27;logreg__max_iter&#x27;: [500, 1000, 2500, 5000],\n",
       "                         &#x27;logreg__penalty&#x27;: [&#x27;l2&#x27;],\n",
       "                         &#x27;logreg__solver&#x27;: [&#x27;lbfgs&#x27;, &#x27;liblinear&#x27;],\n",
       "                         &#x27;sampling__k_neighbors&#x27;: [10, 11, 12, 13, 14, 15],\n",
       "                         &#x27;sampling__sampling_strategy&#x27;: [&#x27;auto&#x27;, &#x27;minority&#x27;]},\n",
       "             scoring=&#x27;roc_auc&#x27;, verbose=1)</pre><b>In a Jupyter environment, please rerun this cell to show the HTML representation or trust the notebook. <br />On GitHub, the HTML representation is unable to render, please try loading this page with nbviewer.org.</b></div><div class=\"sk-container\" hidden><div class=\"sk-item sk-dashed-wrapped\"><div class=\"sk-label-container\"><div class=\"sk-label sk-toggleable\"><input class=\"sk-toggleable__control sk-hidden--visually\" id=\"sk-estimator-id-1\" type=\"checkbox\" ><label for=\"sk-estimator-id-1\" class=\"sk-toggleable__label sk-toggleable__label-arrow\">GridSearchCV</label><div class=\"sk-toggleable__content\"><pre>GridSearchCV(estimator=Pipeline(steps=[(&#x27;sampling&#x27;, SMOTE(random_state=42)),\n",
       "                                       (&#x27;logreg&#x27;,\n",
       "                                        LogisticRegression(random_state=42))]),\n",
       "             n_jobs=-1,\n",
       "             param_grid={&#x27;logreg__C&#x27;: [0.001, 0.01, 0.1, 1, 10, 100, 1000],\n",
       "                         &#x27;logreg__max_iter&#x27;: [500, 1000, 2500, 5000],\n",
       "                         &#x27;logreg__penalty&#x27;: [&#x27;l2&#x27;],\n",
       "                         &#x27;logreg__solver&#x27;: [&#x27;lbfgs&#x27;, &#x27;liblinear&#x27;],\n",
       "                         &#x27;sampling__k_neighbors&#x27;: [10, 11, 12, 13, 14, 15],\n",
       "                         &#x27;sampling__sampling_strategy&#x27;: [&#x27;auto&#x27;, &#x27;minority&#x27;]},\n",
       "             scoring=&#x27;roc_auc&#x27;, verbose=1)</pre></div></div></div><div class=\"sk-parallel\"><div class=\"sk-parallel-item\"><div class=\"sk-item\"><div class=\"sk-label-container\"><div class=\"sk-label sk-toggleable\"><input class=\"sk-toggleable__control sk-hidden--visually\" id=\"sk-estimator-id-2\" type=\"checkbox\" ><label for=\"sk-estimator-id-2\" class=\"sk-toggleable__label sk-toggleable__label-arrow\">estimator: Pipeline</label><div class=\"sk-toggleable__content\"><pre>Pipeline(steps=[(&#x27;sampling&#x27;, SMOTE(random_state=42)),\n",
       "                (&#x27;logreg&#x27;, LogisticRegression(random_state=42))])</pre></div></div></div><div class=\"sk-serial\"><div class=\"sk-item\"><div class=\"sk-serial\"><div class=\"sk-item\"><div class=\"sk-estimator sk-toggleable\"><input class=\"sk-toggleable__control sk-hidden--visually\" id=\"sk-estimator-id-3\" type=\"checkbox\" ><label for=\"sk-estimator-id-3\" class=\"sk-toggleable__label sk-toggleable__label-arrow\">SMOTE</label><div class=\"sk-toggleable__content\"><pre>SMOTE(random_state=42)</pre></div></div></div><div class=\"sk-item\"><div class=\"sk-estimator sk-toggleable\"><input class=\"sk-toggleable__control sk-hidden--visually\" id=\"sk-estimator-id-4\" type=\"checkbox\" ><label for=\"sk-estimator-id-4\" class=\"sk-toggleable__label sk-toggleable__label-arrow\">LogisticRegression</label><div class=\"sk-toggleable__content\"><pre>LogisticRegression(random_state=42)</pre></div></div></div></div></div></div></div></div></div></div></div></div>"
      ],
      "text/plain": [
       "GridSearchCV(estimator=Pipeline(steps=[('sampling', SMOTE(random_state=42)),\n",
       "                                       ('logreg',\n",
       "                                        LogisticRegression(random_state=42))]),\n",
       "             n_jobs=-1,\n",
       "             param_grid={'logreg__C': [0.001, 0.01, 0.1, 1, 10, 100, 1000],\n",
       "                         'logreg__max_iter': [500, 1000, 2500, 5000],\n",
       "                         'logreg__penalty': ['l2'],\n",
       "                         'logreg__solver': ['lbfgs', 'liblinear'],\n",
       "                         'sampling__k_neighbors': [10, 11, 12, 13, 14, 15],\n",
       "                         'sampling__sampling_strategy': ['auto', 'minority']},\n",
       "             scoring='roc_auc', verbose=1)"
      ]
     },
     "execution_count": 36,
     "metadata": {},
     "output_type": "execute_result"
    }
   ],
   "source": [
    "# Creating a pipeline model for SMOTE and Logistic Regression.\n",
    "pipe_smote_logreg = Pipeline([\n",
    "                ('sampling', SMOTE(random_state=42)),\n",
    "                 ('logreg', LogisticRegression(random_state=42))\n",
    "                ])\n",
    "\n",
    "pipe_smote_logreg_params = {\n",
    "    'logreg__solver': ['lbfgs','liblinear'],\n",
    "    'logreg__penalty': ['l2'],\n",
    "    'logreg__C': [0.001, 0.01, 0.1, 1, 10, 100, 1000],\n",
    "    'logreg__max_iter': [500, 1000, 2500, 5000],\n",
    "    'sampling__sampling_strategy': ['auto','minority'],\n",
    "    'sampling__k_neighbors': [10, 11, 12, 13, 14, 15],\n",
    "}\n",
    "\n",
    "gs_smote_logreg = GridSearchCV(pipe_smote_logreg, pipe_smote_logreg_params, verbose=1, n_jobs=-1, scoring = 'roc_auc')\n",
    "\n",
    "gs_smote_logreg.fit(X_train_sc, y_train) "
   ]
  },
  {
   "cell_type": "code",
   "execution_count": 39,
   "id": "c15c576f",
   "metadata": {
    "ExecuteTime": {
     "end_time": "2024-05-23T15:18:58.026262Z",
     "start_time": "2024-05-23T15:18:58.022261Z"
    }
   },
   "outputs": [
    {
     "name": "stdout",
     "output_type": "stream",
     "text": [
      "Best params: {'logreg__C': 0.01, 'logreg__max_iter': 500, 'logreg__penalty': 'l2', 'logreg__solver': 'liblinear', 'sampling__k_neighbors': 14, 'sampling__sampling_strategy': 'auto'}\n"
     ]
    }
   ],
   "source": [
    "print(\"Best params: {}\".format(gs_smote_logreg.best_params_))"
   ]
  },
  {
   "cell_type": "code",
   "execution_count": 52,
   "id": "64c47ac6-6d46-4b2d-9911-3e68fc4ecc16",
   "metadata": {},
   "outputs": [
    {
     "data": {
      "text/html": [
       "<div>\n",
       "<style scoped>\n",
       "    .dataframe tbody tr th:only-of-type {\n",
       "        vertical-align: middle;\n",
       "    }\n",
       "\n",
       "    .dataframe tbody tr th {\n",
       "        vertical-align: top;\n",
       "    }\n",
       "\n",
       "    .dataframe thead th {\n",
       "        text-align: right;\n",
       "    }\n",
       "</style>\n",
       "<table border=\"1\" class=\"dataframe\">\n",
       "  <thead>\n",
       "    <tr style=\"text-align: right;\">\n",
       "      <th></th>\n",
       "      <th>age</th>\n",
       "      <th>leg</th>\n",
       "      <th>waist</th>\n",
       "      <th>sub</th>\n",
       "      <th>gh</th>\n",
       "      <th>albumin</th>\n",
       "      <th>bun</th>\n",
       "      <th>dx</th>\n",
       "    </tr>\n",
       "  </thead>\n",
       "  <tbody>\n",
       "    <tr>\n",
       "      <th>0</th>\n",
       "      <td>39.416667</td>\n",
       "      <td>45.3</td>\n",
       "      <td>120.9</td>\n",
       "      <td>24.00</td>\n",
       "      <td>5.7</td>\n",
       "      <td>4.2</td>\n",
       "      <td>19.0</td>\n",
       "      <td>NaN</td>\n",
       "    </tr>\n",
       "    <tr>\n",
       "      <th>1</th>\n",
       "      <td>44.833333</td>\n",
       "      <td>40.5</td>\n",
       "      <td>106.9</td>\n",
       "      <td>39.80</td>\n",
       "      <td>4.9</td>\n",
       "      <td>3.7</td>\n",
       "      <td>11.0</td>\n",
       "      <td>NaN</td>\n",
       "    </tr>\n",
       "    <tr>\n",
       "      <th>2</th>\n",
       "      <td>76.000000</td>\n",
       "      <td>43.5</td>\n",
       "      <td>111.1</td>\n",
       "      <td>24.16</td>\n",
       "      <td>6.1</td>\n",
       "      <td>4.4</td>\n",
       "      <td>15.0</td>\n",
       "      <td>1.0</td>\n",
       "    </tr>\n",
       "    <tr>\n",
       "      <th>3</th>\n",
       "      <td>61.666667</td>\n",
       "      <td>40.0</td>\n",
       "      <td>80.8</td>\n",
       "      <td>15.50</td>\n",
       "      <td>5.9</td>\n",
       "      <td>4.5</td>\n",
       "      <td>15.0</td>\n",
       "      <td>NaN</td>\n",
       "    </tr>\n",
       "    <tr>\n",
       "      <th>4</th>\n",
       "      <td>80.000000</td>\n",
       "      <td>36.1</td>\n",
       "      <td>119.3</td>\n",
       "      <td>19.20</td>\n",
       "      <td>6.3</td>\n",
       "      <td>4.1</td>\n",
       "      <td>23.0</td>\n",
       "      <td>0.0</td>\n",
       "    </tr>\n",
       "    <tr>\n",
       "      <th>...</th>\n",
       "      <td>...</td>\n",
       "      <td>...</td>\n",
       "      <td>...</td>\n",
       "      <td>...</td>\n",
       "      <td>...</td>\n",
       "      <td>...</td>\n",
       "      <td>...</td>\n",
       "      <td>...</td>\n",
       "    </tr>\n",
       "    <tr>\n",
       "      <th>1354</th>\n",
       "      <td>61.666667</td>\n",
       "      <td>43.0</td>\n",
       "      <td>109.1</td>\n",
       "      <td>28.00</td>\n",
       "      <td>5.4</td>\n",
       "      <td>4.0</td>\n",
       "      <td>18.0</td>\n",
       "      <td>NaN</td>\n",
       "    </tr>\n",
       "    <tr>\n",
       "      <th>1355</th>\n",
       "      <td>18.250000</td>\n",
       "      <td>36.6</td>\n",
       "      <td>77.6</td>\n",
       "      <td>17.30</td>\n",
       "      <td>5.5</td>\n",
       "      <td>4.1</td>\n",
       "      <td>8.0</td>\n",
       "      <td>0.0</td>\n",
       "    </tr>\n",
       "    <tr>\n",
       "      <th>1356</th>\n",
       "      <td>40.416667</td>\n",
       "      <td>45.2</td>\n",
       "      <td>92.2</td>\n",
       "      <td>29.20</td>\n",
       "      <td>5.2</td>\n",
       "      <td>4.4</td>\n",
       "      <td>5.0</td>\n",
       "      <td>NaN</td>\n",
       "    </tr>\n",
       "    <tr>\n",
       "      <th>1357</th>\n",
       "      <td>80.000000</td>\n",
       "      <td>38.0</td>\n",
       "      <td>89.2</td>\n",
       "      <td>15.00</td>\n",
       "      <td>5.5</td>\n",
       "      <td>4.2</td>\n",
       "      <td>11.0</td>\n",
       "      <td>NaN</td>\n",
       "    </tr>\n",
       "    <tr>\n",
       "      <th>1358</th>\n",
       "      <td>27.833333</td>\n",
       "      <td>36.1</td>\n",
       "      <td>71.9</td>\n",
       "      <td>13.80</td>\n",
       "      <td>5.2</td>\n",
       "      <td>4.1</td>\n",
       "      <td>9.0</td>\n",
       "      <td>NaN</td>\n",
       "    </tr>\n",
       "  </tbody>\n",
       "</table>\n",
       "<p>1359 rows × 8 columns</p>\n",
       "</div>"
      ],
      "text/plain": [
       "            age   leg  waist    sub   gh  albumin   bun   dx\n",
       "0     39.416667  45.3  120.9  24.00  5.7      4.2  19.0  NaN\n",
       "1     44.833333  40.5  106.9  39.80  4.9      3.7  11.0  NaN\n",
       "2     76.000000  43.5  111.1  24.16  6.1      4.4  15.0  1.0\n",
       "3     61.666667  40.0   80.8  15.50  5.9      4.5  15.0  NaN\n",
       "4     80.000000  36.1  119.3  19.20  6.3      4.1  23.0  0.0\n",
       "...         ...   ...    ...    ...  ...      ...   ...  ...\n",
       "1354  61.666667  43.0  109.1  28.00  5.4      4.0  18.0  NaN\n",
       "1355  18.250000  36.6   77.6  17.30  5.5      4.1   8.0  0.0\n",
       "1356  40.416667  45.2   92.2  29.20  5.2      4.4   5.0  NaN\n",
       "1357  80.000000  38.0   89.2  15.00  5.5      4.2  11.0  NaN\n",
       "1358  27.833333  36.1   71.9  13.80  5.2      4.1   9.0  NaN\n",
       "\n",
       "[1359 rows x 8 columns]"
      ]
     },
     "execution_count": 52,
     "metadata": {},
     "output_type": "execute_result"
    }
   ],
   "source": [
    "X_test.join(y_test)"
   ]
  },
  {
   "cell_type": "code",
   "execution_count": 40,
   "id": "b03c124c",
   "metadata": {
    "ExecuteTime": {
     "end_time": "2024-05-23T15:19:06.395819Z",
     "start_time": "2024-05-23T15:19:06.376814Z"
    }
   },
   "outputs": [
    {
     "name": "stdout",
     "output_type": "stream",
     "text": [
      "\u001b[4mLogistic Regression with Smote\u001b[0m\n",
      "Sensitivity: 0.819672131147541\n",
      "Accuracy: 0.8278145695364238\n",
      "Specificity: 0.8290816326530612\n",
      "Precision: 0.42735042735042733\n",
      "f1 score: 0.5617977528089887\n",
      "AUC_CV: 0.8843694180684226\n",
      "ROC AUC: 0.8953756365934351\n"
     ]
    }
   ],
   "source": [
    "#metrics calculations\n",
    "preds_smotelr = gs_smote_logreg.predict(X_test_sc)\n",
    "tn, fp, fn, tp = confusion_matrix(y_test, preds_smotelr).ravel()\n",
    "acc = (tp + tn) / (tn + fp + fn + tp)\n",
    "misclass = 1 - acc\n",
    "sens = tp / (tp + fn)\n",
    "spec = tn / (tn + fp)\n",
    "prec = tp / (tp + fp)\n",
    "f_one_score = f1_score(y_test, preds)\n",
    "roc_auc = roc_auc_score(y_test, gs_smote_logreg.predict_proba(X_test_sc)[:,1])\n",
    "\n",
    "#printing out the scores\n",
    "print('\\033[4mLogistic Regression with Smote\\033[0m')\n",
    "print('Sensitivity:', sens)\n",
    "print('Accuracy:',acc)\n",
    "print('Specificity:',spec)\n",
    "print('Precision:',prec)\n",
    "print('f1 score:',f_one_score)\n",
    "print('AUC_CV: {}'.format(gs_smote_logreg.best_score_))\n",
    "print('ROC AUC:',roc_auc)"
   ]
  },
  {
   "cell_type": "code",
   "execution_count": 41,
   "id": "1901db1c",
   "metadata": {
    "ExecuteTime": {
     "end_time": "2024-05-23T11:54:37.584328Z",
     "start_time": "2024-05-23T11:54:37.364279Z"
    }
   },
   "outputs": [
    {
     "data": {
      "image/png": "[encoded data removed]",
      "text/plain": [
       "<Figure size 1700x500 with 3 Axes>"
      ]
     },
     "metadata": {},
     "output_type": "display_data"
    }
   ],
   "source": [
    "fig, axes = plt.subplots(ncols=2, figsize=(17,5))\n",
    "    \n",
    "cm_chart = ConfusionMatrixDisplay.from_estimator(gs_smote_logreg, X_test_sc, y_test, cmap='Blues', values_format='d', ax=axes[0]);\n",
    "axes[0].title.set_text('Confusion Matrix')\n",
    "roc_curve = RocCurveDisplay.from_estimator(gs_smote_logreg, X_test_sc, y_test, ax=axes[1])\n",
    "axes[1].plot([0, 1], [0, 1], label='baseline', linestyle='--' )\n",
    "axes[1].title.set_text('ROC AUC Curve Chart')\n",
    "fig.tight_layout()"
   ]
  },
  {
   "cell_type": "markdown",
   "id": "db717701",
   "metadata": {},
   "source": [
    "**Summary**\n",
    "\n",
    "For this model, we are re-running Logistic Regression with SMOTE. We see improvement in this model in detecting the minority class although the Accuracy has dropped to 0.828. Despite that, this model has accurately predicted 150 observations with of diabetes present, a marked increase from the Base Model.\n",
    "\n",
    "\n"
   ]
  },
  {
   "cell_type": "markdown",
   "id": "13f4756a",
   "metadata": {},
   "source": [
    "#### Random Forest (with SMOTE)"
   ]
  },
  {
   "cell_type": "code",
   "execution_count": 23,
   "id": "60b516ef",
   "metadata": {
    "ExecuteTime": {
     "end_time": "2024-05-23T11:55:18.962209Z",
     "start_time": "2024-05-23T11:54:37.585329Z"
    }
   },
   "outputs": [
    {
     "name": "stdout",
     "output_type": "stream",
     "text": [
      "Fitting 5 folds for each of 120 candidates, totalling 600 fits\n"
     ]
    },
    {
     "data": {
      "text/html": [
       "<style>#sk-container-id-2 {color: black;}#sk-container-id-2 pre{padding: 0;}#sk-container-id-2 div.sk-toggleable {background-color: white;}#sk-container-id-2 label.sk-toggleable__label {cursor: pointer;display: block;width: 100%;margin-bottom: 0;padding: 0.3em;box-sizing: border-box;text-align: center;}#sk-container-id-2 label.sk-toggleable__label-arrow:before {content: \"▸\";float: left;margin-right: 0.25em;color: #696969;}#sk-container-id-2 label.sk-toggleable__label-arrow:hover:before {color: black;}#sk-container-id-2 div.sk-estimator:hover label.sk-toggleable__label-arrow:before {color: black;}#sk-container-id-2 div.sk-toggleable__content {max-height: 0;max-width: 0;overflow: hidden;text-align: left;background-color: #f0f8ff;}#sk-container-id-2 div.sk-toggleable__content pre {margin: 0.2em;color: black;border-radius: 0.25em;background-color: #f0f8ff;}#sk-container-id-2 input.sk-toggleable__control:checked~div.sk-toggleable__content {max-height: 200px;max-width: 100%;overflow: auto;}#sk-container-id-2 input.sk-toggleable__control:checked~label.sk-toggleable__label-arrow:before {content: \"▾\";}#sk-container-id-2 div.sk-estimator input.sk-toggleable__control:checked~label.sk-toggleable__label {background-color: #d4ebff;}#sk-container-id-2 div.sk-label input.sk-toggleable__control:checked~label.sk-toggleable__label {background-color: #d4ebff;}#sk-container-id-2 input.sk-hidden--visually {border: 0;clip: rect(1px 1px 1px 1px);clip: rect(1px, 1px, 1px, 1px);height: 1px;margin: -1px;overflow: hidden;padding: 0;position: absolute;width: 1px;}#sk-container-id-2 div.sk-estimator {font-family: monospace;background-color: #f0f8ff;border: 1px dotted black;border-radius: 0.25em;box-sizing: border-box;margin-bottom: 0.5em;}#sk-container-id-2 div.sk-estimator:hover {background-color: #d4ebff;}#sk-container-id-2 div.sk-parallel-item::after {content: \"\";width: 100%;border-bottom: 1px solid gray;flex-grow: 1;}#sk-container-id-2 div.sk-label:hover label.sk-toggleable__label {background-color: #d4ebff;}#sk-container-id-2 div.sk-serial::before {content: \"\";position: absolute;border-left: 1px solid gray;box-sizing: border-box;top: 0;bottom: 0;left: 50%;z-index: 0;}#sk-container-id-2 div.sk-serial {display: flex;flex-direction: column;align-items: center;background-color: white;padding-right: 0.2em;padding-left: 0.2em;position: relative;}#sk-container-id-2 div.sk-item {position: relative;z-index: 1;}#sk-container-id-2 div.sk-parallel {display: flex;align-items: stretch;justify-content: center;background-color: white;position: relative;}#sk-container-id-2 div.sk-item::before, #sk-container-id-2 div.sk-parallel-item::before {content: \"\";position: absolute;border-left: 1px solid gray;box-sizing: border-box;top: 0;bottom: 0;left: 50%;z-index: -1;}#sk-container-id-2 div.sk-parallel-item {display: flex;flex-direction: column;z-index: 1;position: relative;background-color: white;}#sk-container-id-2 div.sk-parallel-item:first-child::after {align-self: flex-end;width: 50%;}#sk-container-id-2 div.sk-parallel-item:last-child::after {align-self: flex-start;width: 50%;}#sk-container-id-2 div.sk-parallel-item:only-child::after {width: 0;}#sk-container-id-2 div.sk-dashed-wrapped {border: 1px dashed gray;margin: 0 0.4em 0.5em 0.4em;box-sizing: border-box;padding-bottom: 0.4em;background-color: white;}#sk-container-id-2 div.sk-label label {font-family: monospace;font-weight: bold;display: inline-block;line-height: 1.2em;}#sk-container-id-2 div.sk-label-container {text-align: center;}#sk-container-id-2 div.sk-container {/* jupyter's `normalize.less` sets `[hidden] { display: none; }` but bootstrap.min.css set `[hidden] { display: none !important; }` so we also need the `!important` here to be able to override the default hidden behavior on the sphinx rendered scikit-learn.org. See: https://github.com/scikit-learn/scikit-learn/issues/21755 */display: inline-block !important;position: relative;}#sk-container-id-2 div.sk-text-repr-fallback {display: none;}</style><div id=\"sk-container-id-2\" class=\"sk-top-container\"><div class=\"sk-text-repr-fallback\"><pre>GridSearchCV(estimator=Pipeline(steps=[(&#x27;sampling&#x27;, SMOTE(random_state=42)),\n",
       "                                       (&#x27;rf&#x27;,\n",
       "                                        RandomForestClassifier(random_state=42))]),\n",
       "             n_jobs=-1,\n",
       "             param_grid={&#x27;rf__max_depth&#x27;: [None, 2, 3, 4],\n",
       "                         &#x27;rf__n_estimators&#x27;: [150, 200, 250],\n",
       "                         &#x27;sampling__k_neighbors&#x27;: [10, 11, 12, 13, 14],\n",
       "                         &#x27;sampling__sampling_strategy&#x27;: [&#x27;auto&#x27;, &#x27;minority&#x27;]},\n",
       "             scoring=&#x27;roc_auc&#x27;, verbose=1)</pre><b>In a Jupyter environment, please rerun this cell to show the HTML representation or trust the notebook. <br />On GitHub, the HTML representation is unable to render, please try loading this page with nbviewer.org.</b></div><div class=\"sk-container\" hidden><div class=\"sk-item sk-dashed-wrapped\"><div class=\"sk-label-container\"><div class=\"sk-label sk-toggleable\"><input class=\"sk-toggleable__control sk-hidden--visually\" id=\"sk-estimator-id-5\" type=\"checkbox\" ><label for=\"sk-estimator-id-5\" class=\"sk-toggleable__label sk-toggleable__label-arrow\">GridSearchCV</label><div class=\"sk-toggleable__content\"><pre>GridSearchCV(estimator=Pipeline(steps=[(&#x27;sampling&#x27;, SMOTE(random_state=42)),\n",
       "                                       (&#x27;rf&#x27;,\n",
       "                                        RandomForestClassifier(random_state=42))]),\n",
       "             n_jobs=-1,\n",
       "             param_grid={&#x27;rf__max_depth&#x27;: [None, 2, 3, 4],\n",
       "                         &#x27;rf__n_estimators&#x27;: [150, 200, 250],\n",
       "                         &#x27;sampling__k_neighbors&#x27;: [10, 11, 12, 13, 14],\n",
       "                         &#x27;sampling__sampling_strategy&#x27;: [&#x27;auto&#x27;, &#x27;minority&#x27;]},\n",
       "             scoring=&#x27;roc_auc&#x27;, verbose=1)</pre></div></div></div><div class=\"sk-parallel\"><div class=\"sk-parallel-item\"><div class=\"sk-item\"><div class=\"sk-label-container\"><div class=\"sk-label sk-toggleable\"><input class=\"sk-toggleable__control sk-hidden--visually\" id=\"sk-estimator-id-6\" type=\"checkbox\" ><label for=\"sk-estimator-id-6\" class=\"sk-toggleable__label sk-toggleable__label-arrow\">estimator: Pipeline</label><div class=\"sk-toggleable__content\"><pre>Pipeline(steps=[(&#x27;sampling&#x27;, SMOTE(random_state=42)),\n",
       "                (&#x27;rf&#x27;, RandomForestClassifier(random_state=42))])</pre></div></div></div><div class=\"sk-serial\"><div class=\"sk-item\"><div class=\"sk-serial\"><div class=\"sk-item\"><div class=\"sk-estimator sk-toggleable\"><input class=\"sk-toggleable__control sk-hidden--visually\" id=\"sk-estimator-id-7\" type=\"checkbox\" ><label for=\"sk-estimator-id-7\" class=\"sk-toggleable__label sk-toggleable__label-arrow\">SMOTE</label><div class=\"sk-toggleable__content\"><pre>SMOTE(random_state=42)</pre></div></div></div><div class=\"sk-item\"><div class=\"sk-estimator sk-toggleable\"><input class=\"sk-toggleable__control sk-hidden--visually\" id=\"sk-estimator-id-8\" type=\"checkbox\" ><label for=\"sk-estimator-id-8\" class=\"sk-toggleable__label sk-toggleable__label-arrow\">RandomForestClassifier</label><div class=\"sk-toggleable__content\"><pre>RandomForestClassifier(random_state=42)</pre></div></div></div></div></div></div></div></div></div></div></div></div>"
      ],
      "text/plain": [
       "GridSearchCV(estimator=Pipeline(steps=[('sampling', SMOTE(random_state=42)),\n",
       "                                       ('rf',\n",
       "                                        RandomForestClassifier(random_state=42))]),\n",
       "             n_jobs=-1,\n",
       "             param_grid={'rf__max_depth': [None, 2, 3, 4],\n",
       "                         'rf__n_estimators': [150, 200, 250],\n",
       "                         'sampling__k_neighbors': [10, 11, 12, 13, 14],\n",
       "                         'sampling__sampling_strategy': ['auto', 'minority']},\n",
       "             scoring='roc_auc', verbose=1)"
      ]
     },
     "execution_count": 23,
     "metadata": {},
     "output_type": "execute_result"
    }
   ],
   "source": [
    "# Creating a pipeline model for SMOTE and Random Forest.\n",
    "pipe_smote_rf = Pipeline([\n",
    "                ('sampling', SMOTE(random_state=42)),\n",
    "                  ('rf',RandomForestClassifier(random_state=42))\n",
    "                ])\n",
    "\n",
    "pipe_smote_rf_params = {\n",
    "    'sampling__sampling_strategy': ['auto','minority'],\n",
    "    'sampling__k_neighbors': [10, 11, 12, 13, 14],\n",
    "    'rf__n_estimators': [150, 200, 250],\n",
    "    'rf__max_depth':[None, 2, 3, 4],\n",
    "    \n",
    "}\n",
    "\n",
    "gs_smote_rf = GridSearchCV(pipe_smote_rf, pipe_smote_rf_params, verbose=1, n_jobs=-1, scoring = 'roc_auc')\n",
    "\n",
    "gs_smote_rf.fit(X_train_sc, y_train) "
   ]
  },
  {
   "cell_type": "code",
   "execution_count": 24,
   "id": "793266a3",
   "metadata": {
    "ExecuteTime": {
     "end_time": "2024-05-23T15:20:15.317354Z",
     "start_time": "2024-05-23T15:20:15.302352Z"
    }
   },
   "outputs": [
    {
     "name": "stdout",
     "output_type": "stream",
     "text": [
      "Best params: {'rf__max_depth': 4, 'rf__n_estimators': 150, 'sampling__k_neighbors': 10, 'sampling__sampling_strategy': 'auto'}\n"
     ]
    }
   ],
   "source": [
    "print(\"Best params: {}\".format(gs_smote_rf.best_params_))\n"
   ]
  },
  {
   "cell_type": "code",
   "execution_count": 25,
   "id": "03adb953",
   "metadata": {
    "ExecuteTime": {
     "end_time": "2024-05-23T15:20:17.075229Z",
     "start_time": "2024-05-23T15:20:16.936197Z"
    }
   },
   "outputs": [
    {
     "name": "stdout",
     "output_type": "stream",
     "text": [
      "\u001b[4mRandom Forest Classifier with Smote\u001b[0m\n",
      "Sensitivity: 0.7759562841530054\n",
      "Accuracy: 0.8491537895511405\n",
      "Specificity: 0.8605442176870748\n",
      "Precision: 0.46405228758169936\n",
      "f1 score: 0.5807770961145193\n",
      "Train score: 0.883164857225845\n",
      "Test score: 0.8491537895511405\n",
      "ROC AUC: 0.8878991487305303\n"
     ]
    }
   ],
   "source": [
    "# for sorting out later, to confirm how we want to present modeling\n",
    "preds = gs_smote_rf.predict(X_test_sc)\n",
    "tn, fp, fn, tp = confusion_matrix(y_test, preds).ravel()\n",
    "acc = (tp + tn) / (tn + fp + fn + tp)\n",
    "misclass = 1 - acc\n",
    "sens = tp / (tp + fn)\n",
    "spec = tn / (tn + fp)\n",
    "prec = tp / (tp + fp)\n",
    "f_one_score = f1_score(y_test, preds)\n",
    "roc_auc = roc_auc_score(y_test, gs_smote_rf.predict_proba(X_test_sc)[:,1])\n",
    "\n",
    "#printing out the scores\n",
    "print('\\033[4mRandom Forest Classifier with Smote\\033[0m')\n",
    "print('Sensitivity:', sens)\n",
    "print('Accuracy:',acc)\n",
    "print('Specificity:',spec)\n",
    "print('Precision:',prec)\n",
    "print('f1 score:',f_one_score)\n",
    "print('Train score: {}'.format(gs_smote_rf.best_score_))\n",
    "print('ROC AUC:',roc_auc)\n"
   ]
  },
  {
   "cell_type": "code",
   "execution_count": 26,
   "id": "220ebb6e",
   "metadata": {
    "ExecuteTime": {
     "end_time": "2024-05-23T11:55:19.438318Z",
     "start_time": "2024-05-23T11:55:19.123246Z"
    }
   },
   "outputs": [
    {
     "data": {
      "image/png": "[encoded data removed]",
      "text/plain": [
       "<Figure size 1700x500 with 3 Axes>"
      ]
     },
     "metadata": {},
     "output_type": "display_data"
    }
   ],
   "source": [
    "fig, axes = plt.subplots(ncols=2, figsize=(17,5))\n",
    "    \n",
    "cm_chart = ConfusionMatrixDisplay.from_estimator(gs_smote_rf, X_test_sc, y_test, cmap='Blues', values_format='d', ax=axes[0]);\n",
    "axes[0].title.set_text('Confusion Matrix')\n",
    "roc_curve = RocCurveDisplay.from_estimator(gs_smote_rf, X_test_sc, y_test, ax=axes[1])\n",
    "axes[1].plot([0, 1], [0, 1], label='baseline', linestyle='--' )\n",
    "axes[1].title.set_text('ROC AUC Curve Chart')\n",
    "fig.tight_layout()\n"
   ]
  },
  {
   "cell_type": "markdown",
   "id": "46b6d061",
   "metadata": {},
   "source": [
    "**Summary**\n",
    "\n",
    "We are using Random Forest for this model. We have increased the Accuracy Score as compared to LogReg with SMOTE. However, both the ROC AUC and Sensitivity scores have decreased. This can be seen by the model only able to predict correctly 142 observations in the positive class, lesser than for LogReg."
   ]
  },
  {
   "cell_type": "markdown",
   "id": "2cd7d275",
   "metadata": {},
   "source": [
    "#### Decision Tree (with SMOTE)"
   ]
  },
  {
   "cell_type": "code",
   "execution_count": 27,
   "id": "b4586512",
   "metadata": {
    "ExecuteTime": {
     "end_time": "2024-05-23T11:55:28.136775Z",
     "start_time": "2024-05-23T11:55:19.439318Z"
    }
   },
   "outputs": [
    {
     "name": "stdout",
     "output_type": "stream",
     "text": [
      "Fitting 5 folds for each of 864 candidates, totalling 4320 fits\n"
     ]
    },
    {
     "data": {
      "text/html": [
       "<style>#sk-container-id-3 {color: black;}#sk-container-id-3 pre{padding: 0;}#sk-container-id-3 div.sk-toggleable {background-color: white;}#sk-container-id-3 label.sk-toggleable__label {cursor: pointer;display: block;width: 100%;margin-bottom: 0;padding: 0.3em;box-sizing: border-box;text-align: center;}#sk-container-id-3 label.sk-toggleable__label-arrow:before {content: \"▸\";float: left;margin-right: 0.25em;color: #696969;}#sk-container-id-3 label.sk-toggleable__label-arrow:hover:before {color: black;}#sk-container-id-3 div.sk-estimator:hover label.sk-toggleable__label-arrow:before {color: black;}#sk-container-id-3 div.sk-toggleable__content {max-height: 0;max-width: 0;overflow: hidden;text-align: left;background-color: #f0f8ff;}#sk-container-id-3 div.sk-toggleable__content pre {margin: 0.2em;color: black;border-radius: 0.25em;background-color: #f0f8ff;}#sk-container-id-3 input.sk-toggleable__control:checked~div.sk-toggleable__content {max-height: 200px;max-width: 100%;overflow: auto;}#sk-container-id-3 input.sk-toggleable__control:checked~label.sk-toggleable__label-arrow:before {content: \"▾\";}#sk-container-id-3 div.sk-estimator input.sk-toggleable__control:checked~label.sk-toggleable__label {background-color: #d4ebff;}#sk-container-id-3 div.sk-label input.sk-toggleable__control:checked~label.sk-toggleable__label {background-color: #d4ebff;}#sk-container-id-3 input.sk-hidden--visually {border: 0;clip: rect(1px 1px 1px 1px);clip: rect(1px, 1px, 1px, 1px);height: 1px;margin: -1px;overflow: hidden;padding: 0;position: absolute;width: 1px;}#sk-container-id-3 div.sk-estimator {font-family: monospace;background-color: #f0f8ff;border: 1px dotted black;border-radius: 0.25em;box-sizing: border-box;margin-bottom: 0.5em;}#sk-container-id-3 div.sk-estimator:hover {background-color: #d4ebff;}#sk-container-id-3 div.sk-parallel-item::after {content: \"\";width: 100%;border-bottom: 1px solid gray;flex-grow: 1;}#sk-container-id-3 div.sk-label:hover label.sk-toggleable__label {background-color: #d4ebff;}#sk-container-id-3 div.sk-serial::before {content: \"\";position: absolute;border-left: 1px solid gray;box-sizing: border-box;top: 0;bottom: 0;left: 50%;z-index: 0;}#sk-container-id-3 div.sk-serial {display: flex;flex-direction: column;align-items: center;background-color: white;padding-right: 0.2em;padding-left: 0.2em;position: relative;}#sk-container-id-3 div.sk-item {position: relative;z-index: 1;}#sk-container-id-3 div.sk-parallel {display: flex;align-items: stretch;justify-content: center;background-color: white;position: relative;}#sk-container-id-3 div.sk-item::before, #sk-container-id-3 div.sk-parallel-item::before {content: \"\";position: absolute;border-left: 1px solid gray;box-sizing: border-box;top: 0;bottom: 0;left: 50%;z-index: -1;}#sk-container-id-3 div.sk-parallel-item {display: flex;flex-direction: column;z-index: 1;position: relative;background-color: white;}#sk-container-id-3 div.sk-parallel-item:first-child::after {align-self: flex-end;width: 50%;}#sk-container-id-3 div.sk-parallel-item:last-child::after {align-self: flex-start;width: 50%;}#sk-container-id-3 div.sk-parallel-item:only-child::after {width: 0;}#sk-container-id-3 div.sk-dashed-wrapped {border: 1px dashed gray;margin: 0 0.4em 0.5em 0.4em;box-sizing: border-box;padding-bottom: 0.4em;background-color: white;}#sk-container-id-3 div.sk-label label {font-family: monospace;font-weight: bold;display: inline-block;line-height: 1.2em;}#sk-container-id-3 div.sk-label-container {text-align: center;}#sk-container-id-3 div.sk-container {/* jupyter's `normalize.less` sets `[hidden] { display: none; }` but bootstrap.min.css set `[hidden] { display: none !important; }` so we also need the `!important` here to be able to override the default hidden behavior on the sphinx rendered scikit-learn.org. See: https://github.com/scikit-learn/scikit-learn/issues/21755 */display: inline-block !important;position: relative;}#sk-container-id-3 div.sk-text-repr-fallback {display: none;}</style><div id=\"sk-container-id-3\" class=\"sk-top-container\"><div class=\"sk-text-repr-fallback\"><pre>GridSearchCV(estimator=Pipeline(steps=[(&#x27;sampling&#x27;, SMOTE(random_state=42)),\n",
       "                                       (&#x27;dt&#x27;,\n",
       "                                        DecisionTreeClassifier(random_state=42))]),\n",
       "             n_jobs=-1,\n",
       "             param_grid={&#x27;dt__criterion&#x27;: [&#x27;gini&#x27;, &#x27;entropy&#x27;, &#x27;log_loss&#x27;],\n",
       "                         &#x27;dt__max_depth&#x27;: [None, 1, 2, 3, 4, 5],\n",
       "                         &#x27;dt__min_samples_split&#x27;: [2, 3, 4, 5],\n",
       "                         &#x27;sampling__k_neighbors&#x27;: [10, 11, 12, 13, 14, 15],\n",
       "                         &#x27;sampling__sampling_strategy&#x27;: [&#x27;auto&#x27;, &#x27;minority&#x27;]},\n",
       "             scoring=&#x27;roc_auc&#x27;, verbose=1)</pre><b>In a Jupyter environment, please rerun this cell to show the HTML representation or trust the notebook. <br />On GitHub, the HTML representation is unable to render, please try loading this page with nbviewer.org.</b></div><div class=\"sk-container\" hidden><div class=\"sk-item sk-dashed-wrapped\"><div class=\"sk-label-container\"><div class=\"sk-label sk-toggleable\"><input class=\"sk-toggleable__control sk-hidden--visually\" id=\"sk-estimator-id-9\" type=\"checkbox\" ><label for=\"sk-estimator-id-9\" class=\"sk-toggleable__label sk-toggleable__label-arrow\">GridSearchCV</label><div class=\"sk-toggleable__content\"><pre>GridSearchCV(estimator=Pipeline(steps=[(&#x27;sampling&#x27;, SMOTE(random_state=42)),\n",
       "                                       (&#x27;dt&#x27;,\n",
       "                                        DecisionTreeClassifier(random_state=42))]),\n",
       "             n_jobs=-1,\n",
       "             param_grid={&#x27;dt__criterion&#x27;: [&#x27;gini&#x27;, &#x27;entropy&#x27;, &#x27;log_loss&#x27;],\n",
       "                         &#x27;dt__max_depth&#x27;: [None, 1, 2, 3, 4, 5],\n",
       "                         &#x27;dt__min_samples_split&#x27;: [2, 3, 4, 5],\n",
       "                         &#x27;sampling__k_neighbors&#x27;: [10, 11, 12, 13, 14, 15],\n",
       "                         &#x27;sampling__sampling_strategy&#x27;: [&#x27;auto&#x27;, &#x27;minority&#x27;]},\n",
       "             scoring=&#x27;roc_auc&#x27;, verbose=1)</pre></div></div></div><div class=\"sk-parallel\"><div class=\"sk-parallel-item\"><div class=\"sk-item\"><div class=\"sk-label-container\"><div class=\"sk-label sk-toggleable\"><input class=\"sk-toggleable__control sk-hidden--visually\" id=\"sk-estimator-id-10\" type=\"checkbox\" ><label for=\"sk-estimator-id-10\" class=\"sk-toggleable__label sk-toggleable__label-arrow\">estimator: Pipeline</label><div class=\"sk-toggleable__content\"><pre>Pipeline(steps=[(&#x27;sampling&#x27;, SMOTE(random_state=42)),\n",
       "                (&#x27;dt&#x27;, DecisionTreeClassifier(random_state=42))])</pre></div></div></div><div class=\"sk-serial\"><div class=\"sk-item\"><div class=\"sk-serial\"><div class=\"sk-item\"><div class=\"sk-estimator sk-toggleable\"><input class=\"sk-toggleable__control sk-hidden--visually\" id=\"sk-estimator-id-11\" type=\"checkbox\" ><label for=\"sk-estimator-id-11\" class=\"sk-toggleable__label sk-toggleable__label-arrow\">SMOTE</label><div class=\"sk-toggleable__content\"><pre>SMOTE(random_state=42)</pre></div></div></div><div class=\"sk-item\"><div class=\"sk-estimator sk-toggleable\"><input class=\"sk-toggleable__control sk-hidden--visually\" id=\"sk-estimator-id-12\" type=\"checkbox\" ><label for=\"sk-estimator-id-12\" class=\"sk-toggleable__label sk-toggleable__label-arrow\">DecisionTreeClassifier</label><div class=\"sk-toggleable__content\"><pre>DecisionTreeClassifier(random_state=42)</pre></div></div></div></div></div></div></div></div></div></div></div></div>"
      ],
      "text/plain": [
       "GridSearchCV(estimator=Pipeline(steps=[('sampling', SMOTE(random_state=42)),\n",
       "                                       ('dt',\n",
       "                                        DecisionTreeClassifier(random_state=42))]),\n",
       "             n_jobs=-1,\n",
       "             param_grid={'dt__criterion': ['gini', 'entropy', 'log_loss'],\n",
       "                         'dt__max_depth': [None, 1, 2, 3, 4, 5],\n",
       "                         'dt__min_samples_split': [2, 3, 4, 5],\n",
       "                         'sampling__k_neighbors': [10, 11, 12, 13, 14, 15],\n",
       "                         'sampling__sampling_strategy': ['auto', 'minority']},\n",
       "             scoring='roc_auc', verbose=1)"
      ]
     },
     "execution_count": 27,
     "metadata": {},
     "output_type": "execute_result"
    }
   ],
   "source": [
    "# Creating a pipeline model for SMOTE and Decision Tree.\n",
    "pipe_smote_dt = Pipeline([\n",
    "                ('sampling', SMOTE(random_state=42)),\n",
    "                  ('dt',DecisionTreeClassifier(random_state=42))\n",
    "                ])\n",
    "\n",
    "pipe_smote_dt_params = {\n",
    "    'sampling__sampling_strategy': ['auto','minority'],\n",
    "    'sampling__k_neighbors': [10, 11, 12, 13, 14, 15],\n",
    "    'dt__criterion': ['gini', 'entropy', 'log_loss'],\n",
    "    'dt__max_depth': [None, 1, 2, 3, 4, 5],\n",
    "    'dt__min_samples_split': [2, 3, 4, 5]    \n",
    "}\n",
    "\n",
    "gs_smote_dt = GridSearchCV(pipe_smote_dt, pipe_smote_dt_params, verbose=1, n_jobs=-1, scoring = 'roc_auc')\n",
    "\n",
    "gs_smote_dt.fit(X_train_sc, y_train) "
   ]
  },
  {
   "cell_type": "code",
   "execution_count": 28,
   "id": "10d0c4b0",
   "metadata": {
    "ExecuteTime": {
     "end_time": "2024-05-23T15:21:16.189417Z",
     "start_time": "2024-05-23T15:21:16.181416Z"
    }
   },
   "outputs": [
    {
     "name": "stdout",
     "output_type": "stream",
     "text": [
      "Best params: {'dt__criterion': 'gini', 'dt__max_depth': 3, 'dt__min_samples_split': 2, 'sampling__k_neighbors': 11, 'sampling__sampling_strategy': 'auto'}\n"
     ]
    }
   ],
   "source": [
    "print(\"Best params: {}\".format(gs_smote_dt.best_params_))"
   ]
  },
  {
   "cell_type": "code",
   "execution_count": 29,
   "id": "a001958f",
   "metadata": {
    "ExecuteTime": {
     "end_time": "2024-05-23T15:21:17.332361Z",
     "start_time": "2024-05-23T15:21:17.310356Z"
    }
   },
   "outputs": [
    {
     "name": "stdout",
     "output_type": "stream",
     "text": [
      "\u001b[4mDecision Tree Classifier with Smote\u001b[0m\n",
      "Sensitivity: 0.6994535519125683\n",
      "Accuracy: 0.8741721854304636\n",
      "Specificity: 0.9013605442176871\n",
      "Precision: 0.5245901639344263\n",
      "f1 score: 0.5995316159250585\n",
      "Train score: 0.8710368353883705\n",
      "Test score: 0.8741721854304636\n",
      "ROC AUC: 0.8704927326121705\n"
     ]
    }
   ],
   "source": [
    "# for sorting out later, to confirm how we want to present modeling\n",
    "preds = gs_smote_dt.predict(X_test_sc)\n",
    "tn, fp, fn, tp = confusion_matrix(y_test, preds).ravel()\n",
    "acc = (tp + tn) / (tn + fp + fn + tp)\n",
    "misclass = 1 - acc\n",
    "sens = tp / (tp + fn)\n",
    "spec = tn / (tn + fp)\n",
    "prec = tp / (tp + fp)\n",
    "f_one_score = f1_score(y_test, preds)\n",
    "roc_auc = roc_auc_score(y_test, gs_smote_dt.predict_proba(X_test_sc)[:,1])\n",
    "\n",
    "#printing out the scores\n",
    "print('\\033[4mDecision Tree Classifier with Smote\\033[0m')\n",
    "print('Sensitivity:', sens)\n",
    "print('Accuracy:',acc)\n",
    "print('Specificity:',spec)\n",
    "print('Precision:',prec)\n",
    "print('f1 score:',f_one_score)\n",
    "print('Train score: {}'.format(gs_smote_dt.best_score_))\n",
    "print('ROC AUC:',roc_auc)\n"
   ]
  },
  {
   "cell_type": "code",
   "execution_count": 30,
   "id": "a3ee751a",
   "metadata": {
    "ExecuteTime": {
     "end_time": "2024-05-23T11:55:28.403627Z",
     "start_time": "2024-05-23T11:55:28.169575Z"
    }
   },
   "outputs": [
    {
     "data": {
      "image/png": "[encoded data removed]",
      "text/plain": [
       "<Figure size 1700x500 with 3 Axes>"
      ]
     },
     "metadata": {},
     "output_type": "display_data"
    }
   ],
   "source": [
    "fig, axes = plt.subplots(ncols=2, figsize=(17,5))\n",
    "    \n",
    "cm_chart = ConfusionMatrixDisplay.from_estimator(gs_smote_dt, X_test_sc, y_test, cmap='Blues', values_format='d', ax=axes[0]);\n",
    "axes[0].title.set_text('Confusion Matrix')\n",
    "roc_curve = RocCurveDisplay.from_estimator(gs_smote_dt, X_test_sc, y_test, ax=axes[1])\n",
    "axes[1].plot([0, 1], [0, 1], label='baseline', linestyle='--' )\n",
    "axes[1].title.set_text('ROC AUC Curve Chart')\n",
    "fig.tight_layout()\n"
   ]
  },
  {
   "cell_type": "markdown",
   "id": "5d0ee041",
   "metadata": {},
   "source": [
    "**Summary**\n",
    "\n",
    "For Decision Tree, even with hypertuning, has the best Accuracy so far at the expense of the ROC AUC score. Sensitivity is also the worst and this can be seen by the model predicting the least number of observations in the True Positive class."
   ]
  },
  {
   "cell_type": "markdown",
   "id": "e9375153",
   "metadata": {},
   "source": [
    "#### Summary of Results"
   ]
  },
  {
   "cell_type": "markdown",
   "id": "9d7ce052-fbba-4ab1-91b8-adbcfac69534",
   "metadata": {},
   "source": [
    "\n",
    "|Model|---|HyperParameters|<b>Sensitivity</b>|Accuracy|Specificity|Precision|F1 Score|AUC_CV|<b>ROC AUC</b>|Remarks|\n",
    "|---|---|---|---|---|---|---|---|---|---|---|\n",
    "|Base Model|Logistic Regression|---|0.361|0.899|0.983|0.767|0.491|0.884|0.896|---|\n",
    "|Model 1|Logistic Regression,SMOTE|'logreg__C': 0.01, 'logreg__max_iter': 500, 'logreg__penalty': 'l2', 'logreg__solver': 'liblinear', 'sampling__k_neighbors': 14, 'sampling__sampling_strategy': 'auto'|<b>0.819</b>|0.828|0.829|0.427|0.562|0.884|<b>0.895</b>|<b>Best Model</b>|\n",
    "|Model 2|Random Forest,SMOTE|'rf__max_depth': 4, 'rf__n_estimators': 150, 'sampling__k_neighbors': 10, 'sampling__sampling_strategy': 'auto'|0.776|0.849|0.860|0.464|0.581|0.883|0.889|---|\n",
    "|Model 3|Decision Tree,SMOTE|'dt__criterion': 'gini', 'dt__max_depth': 3, 'dt__min_samples_split': 2, 'sampling__k_neighbors': 11, 'sampling__sampling_strategy': 'auto'|0.699|0.874|0.901|0.525|0.600|0.871|0.870|---|"
   ]
  },
  {
   "cell_type": "markdown",
   "id": "542a9793",
   "metadata": {},
   "source": [
    "As mentioned, inability to correctly identify true positives will lead to patients who are diabetic not getting the help they need when we use this model in a real world setting. I believe that letting patients being undiagnosed is costlier to Public Health as compared to the increase in number of doctor's appointments, especially if we are to look at the situation in the lens of preventive care.\n",
    "\n",
    "Hence, picking out the best model out of the three will depend more on the Sensitivity and ROC AUC scores (to aim to reduce Type II errors (False Negatives)). Thus, Model 1 (Logistic Regression, SMOTE) is the best model out of the three, with the highest score for both (Sensitivity = 0.819, ROC AUC = 0.895).\n",
    "\n",
    "Should the model were to be published/pushed to production, the model will have to be retrained on the whole dataset (prior to train-test split). "
   ]
  },
  {
   "cell_type": "markdown",
   "id": "9c413b0e",
   "metadata": {},
   "source": [
    "## Feature Importance Analysis"
   ]
  },
  {
   "cell_type": "code",
   "execution_count": 38,
   "id": "3ca2d80d",
   "metadata": {
    "ExecuteTime": {
     "end_time": "2024-05-23T14:39:20.497809Z",
     "start_time": "2024-05-23T14:39:20.487808Z"
    }
   },
   "outputs": [
    {
     "data": {
      "text/html": [
       "<div>\n",
       "<style scoped>\n",
       "    .dataframe tbody tr th:only-of-type {\n",
       "        vertical-align: middle;\n",
       "    }\n",
       "\n",
       "    .dataframe tbody tr th {\n",
       "        vertical-align: top;\n",
       "    }\n",
       "\n",
       "    .dataframe thead th {\n",
       "        text-align: right;\n",
       "    }\n",
       "</style>\n",
       "<table border=\"1\" class=\"dataframe\">\n",
       "  <thead>\n",
       "    <tr style=\"text-align: right;\">\n",
       "      <th></th>\n",
       "      <th>Features</th>\n",
       "      <th>Coeff</th>\n",
       "    </tr>\n",
       "  </thead>\n",
       "  <tbody>\n",
       "    <tr>\n",
       "      <th>4</th>\n",
       "      <td>gh</td>\n",
       "      <td>1.225975</td>\n",
       "    </tr>\n",
       "    <tr>\n",
       "      <th>0</th>\n",
       "      <td>age</td>\n",
       "      <td>0.495597</td>\n",
       "    </tr>\n",
       "    <tr>\n",
       "      <th>2</th>\n",
       "      <td>waist</td>\n",
       "      <td>0.371633</td>\n",
       "    </tr>\n",
       "    <tr>\n",
       "      <th>3</th>\n",
       "      <td>sub</td>\n",
       "      <td>0.223999</td>\n",
       "    </tr>\n",
       "    <tr>\n",
       "      <th>6</th>\n",
       "      <td>bun</td>\n",
       "      <td>0.114112</td>\n",
       "    </tr>\n",
       "    <tr>\n",
       "      <th>5</th>\n",
       "      <td>albumin</td>\n",
       "      <td>0.017824</td>\n",
       "    </tr>\n",
       "    <tr>\n",
       "      <th>1</th>\n",
       "      <td>leg</td>\n",
       "      <td>-0.196669</td>\n",
       "    </tr>\n",
       "  </tbody>\n",
       "</table>\n",
       "</div>"
      ],
      "text/plain": [
       "  Features     Coeff\n",
       "4       gh  1.225975\n",
       "0      age  0.495597\n",
       "2    waist  0.371633\n",
       "3      sub  0.223999\n",
       "6      bun  0.114112\n",
       "5  albumin  0.017824\n",
       "1      leg -0.196669"
      ]
     },
     "execution_count": 38,
     "metadata": {},
     "output_type": "execute_result"
    }
   ],
   "source": [
    "# create table to show the predictors with the highest importance (i.e. strongest predictors of the presence of diabetes)\n",
    "feature_names = X.columns\n",
    "coefficients = pd.DataFrame(np.squeeze(gs_smote_logreg.best_estimator_.named_steps['logreg'].coef_),columns=['Coeff'])\n",
    "features = pd.DataFrame(np.squeeze(feature_names), columns=['Features']) \n",
    "\n",
    "feature_impt = pd.concat([features, coefficients], axis='columns').sort_values('Coeff', ascending=False)\n",
    "\n",
    "feature_impt"
   ]
  },
  {
   "cell_type": "markdown",
   "id": "317602bc",
   "metadata": {},
   "source": [
    "From the table of coefficients, we see that [gh] has a highest coefficient, followed by [age] and then [waist] with [sub] not far behind. The model training resulted in these few features being the most important (note: importance is measure by the absolute value of the coefficient) and is in line with our findings from EDA from the previous section. The reasoning as to why a higher coefficient leads to a higher importance is because a 1 unit change in the feature will lead to a more than 1 unit change in the log-odds of the target variable. In laymen terms, a feature is of higher importance when it has a higher impact to the target, and consequently, on the predicted probability of the outcome.\n",
    "\n",
    "**Reasons behind Feature Importance**\n",
    "- gh (Glycohemoglobin): The measure of your average level of blood sugar over the past 2-3 months. Thus, it is natural that this measure is the strongest predictor for diabetes.\n",
    "(https://www.webmd.com/diabetes/glycated-hemoglobin-test-hba1c)\n",
    "- age: The prevalence of both type 2 diabetes and prediabetes increases with advancing age leading to deficiency of insulin secretion and growing insulin resistance caused by a change in body composition (due to sarcopaenia).\n",
    "(https://www.ncbi.nlm.nih.gov/pmc/articles/PMC5509969/#:~:text=The%20prevalence%20of%20both%20type,in%20body%20composition%20and%20sarcopaenia.)\n",
    "- waist (Waist Circumference) & sub (Subscapular Skinfold): Directly correlated to body fat percentage. Lean body mass plays a role in reducing blood sugar, while fat tissue reduces insulin secretion, which can in turn lead to hyperglycemia. Thus, a person with greater lean body mass could have a lower risk of developing type 2 diabetes than a person with less lean body mass. (https://www.ncbi.nlm.nih.gov/pmc/articles/PMC6915175/#:~:text=lean%20body%20mass%20plays%20a,with%20less%20lean%20body%20mass.)\n",
    "\n",
    "\n",
    "Thus, one can propose to reduce the amount of measurements done to reduce the patient cost and consultation length (only if the purpose is to do a preliminary test on diabetic risk).\n"
   ]
  },
  {
   "cell_type": "markdown",
   "id": "af8a66f6-156e-4960-b619-73f48fc7da9b",
   "metadata": {},
   "source": [
    "## Error Analysis\n"
   ]
  },
  {
   "cell_type": "markdown",
   "id": "d5cf88f3-2e1a-45d1-8654-c9833044adbb",
   "metadata": {},
   "source": [
    "Error analysis will focus on the 33 False Negatives that wasnt capture by our LogReg with SMOTE model. We will first merge the X_test, y_test, and the predicted y together into one DataFrame for ease of comparison."
   ]
  },
  {
   "cell_type": "code",
   "execution_count": 107,
   "id": "ef1e309b-e032-4daf-84ef-1e4343ff0c7f",
   "metadata": {},
   "outputs": [
    {
     "data": {
      "text/html": [
       "<div>\n",
       "<style scoped>\n",
       "    .dataframe tbody tr th:only-of-type {\n",
       "        vertical-align: middle;\n",
       "    }\n",
       "\n",
       "    .dataframe tbody tr th {\n",
       "        vertical-align: top;\n",
       "    }\n",
       "\n",
       "    .dataframe thead th {\n",
       "        text-align: right;\n",
       "    }\n",
       "</style>\n",
       "<table border=\"1\" class=\"dataframe\">\n",
       "  <thead>\n",
       "    <tr style=\"text-align: right;\">\n",
       "      <th></th>\n",
       "      <th>age</th>\n",
       "      <th>leg</th>\n",
       "      <th>waist</th>\n",
       "      <th>sub</th>\n",
       "      <th>gh</th>\n",
       "      <th>albumin</th>\n",
       "      <th>bun</th>\n",
       "      <th>dx_pred</th>\n",
       "      <th>dx</th>\n",
       "    </tr>\n",
       "  </thead>\n",
       "  <tbody>\n",
       "    <tr>\n",
       "      <th>0</th>\n",
       "      <td>39.416667</td>\n",
       "      <td>45.3</td>\n",
       "      <td>120.9</td>\n",
       "      <td>24.00</td>\n",
       "      <td>5.7</td>\n",
       "      <td>4.2</td>\n",
       "      <td>19.0</td>\n",
       "      <td>0</td>\n",
       "      <td>0</td>\n",
       "    </tr>\n",
       "    <tr>\n",
       "      <th>1</th>\n",
       "      <td>44.833333</td>\n",
       "      <td>40.5</td>\n",
       "      <td>106.9</td>\n",
       "      <td>39.80</td>\n",
       "      <td>4.9</td>\n",
       "      <td>3.7</td>\n",
       "      <td>11.0</td>\n",
       "      <td>0</td>\n",
       "      <td>0</td>\n",
       "    </tr>\n",
       "    <tr>\n",
       "      <th>2</th>\n",
       "      <td>76.000000</td>\n",
       "      <td>43.5</td>\n",
       "      <td>111.1</td>\n",
       "      <td>24.16</td>\n",
       "      <td>6.1</td>\n",
       "      <td>4.4</td>\n",
       "      <td>15.0</td>\n",
       "      <td>1</td>\n",
       "      <td>1</td>\n",
       "    </tr>\n",
       "    <tr>\n",
       "      <th>3</th>\n",
       "      <td>61.666667</td>\n",
       "      <td>40.0</td>\n",
       "      <td>80.8</td>\n",
       "      <td>15.50</td>\n",
       "      <td>5.9</td>\n",
       "      <td>4.5</td>\n",
       "      <td>15.0</td>\n",
       "      <td>0</td>\n",
       "      <td>0</td>\n",
       "    </tr>\n",
       "    <tr>\n",
       "      <th>4</th>\n",
       "      <td>80.000000</td>\n",
       "      <td>36.1</td>\n",
       "      <td>119.3</td>\n",
       "      <td>19.20</td>\n",
       "      <td>6.3</td>\n",
       "      <td>4.1</td>\n",
       "      <td>23.0</td>\n",
       "      <td>1</td>\n",
       "      <td>0</td>\n",
       "    </tr>\n",
       "    <tr>\n",
       "      <th>...</th>\n",
       "      <td>...</td>\n",
       "      <td>...</td>\n",
       "      <td>...</td>\n",
       "      <td>...</td>\n",
       "      <td>...</td>\n",
       "      <td>...</td>\n",
       "      <td>...</td>\n",
       "      <td>...</td>\n",
       "      <td>...</td>\n",
       "    </tr>\n",
       "    <tr>\n",
       "      <th>1354</th>\n",
       "      <td>61.666667</td>\n",
       "      <td>43.0</td>\n",
       "      <td>109.1</td>\n",
       "      <td>28.00</td>\n",
       "      <td>5.4</td>\n",
       "      <td>4.0</td>\n",
       "      <td>18.0</td>\n",
       "      <td>0</td>\n",
       "      <td>0</td>\n",
       "    </tr>\n",
       "    <tr>\n",
       "      <th>1355</th>\n",
       "      <td>18.250000</td>\n",
       "      <td>36.6</td>\n",
       "      <td>77.6</td>\n",
       "      <td>17.30</td>\n",
       "      <td>5.5</td>\n",
       "      <td>4.1</td>\n",
       "      <td>8.0</td>\n",
       "      <td>0</td>\n",
       "      <td>0</td>\n",
       "    </tr>\n",
       "    <tr>\n",
       "      <th>1356</th>\n",
       "      <td>40.416667</td>\n",
       "      <td>45.2</td>\n",
       "      <td>92.2</td>\n",
       "      <td>29.20</td>\n",
       "      <td>5.2</td>\n",
       "      <td>4.4</td>\n",
       "      <td>5.0</td>\n",
       "      <td>0</td>\n",
       "      <td>0</td>\n",
       "    </tr>\n",
       "    <tr>\n",
       "      <th>1357</th>\n",
       "      <td>80.000000</td>\n",
       "      <td>38.0</td>\n",
       "      <td>89.2</td>\n",
       "      <td>15.00</td>\n",
       "      <td>5.5</td>\n",
       "      <td>4.2</td>\n",
       "      <td>11.0</td>\n",
       "      <td>0</td>\n",
       "      <td>0</td>\n",
       "    </tr>\n",
       "    <tr>\n",
       "      <th>1358</th>\n",
       "      <td>27.833333</td>\n",
       "      <td>36.1</td>\n",
       "      <td>71.9</td>\n",
       "      <td>13.80</td>\n",
       "      <td>5.2</td>\n",
       "      <td>4.1</td>\n",
       "      <td>9.0</td>\n",
       "      <td>0</td>\n",
       "      <td>0</td>\n",
       "    </tr>\n",
       "  </tbody>\n",
       "</table>\n",
       "<p>1359 rows × 9 columns</p>\n",
       "</div>"
      ],
      "text/plain": [
       "            age   leg  waist    sub   gh  albumin   bun  dx_pred  dx\n",
       "0     39.416667  45.3  120.9  24.00  5.7      4.2  19.0        0   0\n",
       "1     44.833333  40.5  106.9  39.80  4.9      3.7  11.0        0   0\n",
       "2     76.000000  43.5  111.1  24.16  6.1      4.4  15.0        1   1\n",
       "3     61.666667  40.0   80.8  15.50  5.9      4.5  15.0        0   0\n",
       "4     80.000000  36.1  119.3  19.20  6.3      4.1  23.0        1   0\n",
       "...         ...   ...    ...    ...  ...      ...   ...      ...  ..\n",
       "1354  61.666667  43.0  109.1  28.00  5.4      4.0  18.0        0   0\n",
       "1355  18.250000  36.6   77.6  17.30  5.5      4.1   8.0        0   0\n",
       "1356  40.416667  45.2   92.2  29.20  5.2      4.4   5.0        0   0\n",
       "1357  80.000000  38.0   89.2  15.00  5.5      4.2  11.0        0   0\n",
       "1358  27.833333  36.1   71.9  13.80  5.2      4.1   9.0        0   0\n",
       "\n",
       "[1359 rows x 9 columns]"
      ]
     },
     "execution_count": 107,
     "metadata": {},
     "output_type": "execute_result"
    }
   ],
   "source": [
    "err_X_test = X_test.join(df_preds_smotelr)\n",
    "err_X_test = ddd.join(pd.DataFrame(y_test.tolist(), columns = ['dx']))\n",
    "err_X_test\n"
   ]
  },
  {
   "cell_type": "code",
   "execution_count": 113,
   "id": "b400ac01-1838-46b7-9934-fd76ddf3170c",
   "metadata": {},
   "outputs": [
    {
     "name": "stdout",
     "output_type": "stream",
     "text": [
      "(33, 9)\n"
     ]
    },
    {
     "data": {
      "text/plain": [
       "age        47.696970\n",
       "leg        39.340606\n",
       "waist      97.921212\n",
       "sub        20.832121\n",
       "gh          5.515152\n",
       "albumin     4.296364\n",
       "bun        12.600000\n",
       "dx_pred     0.000000\n",
       "dx          1.000000\n",
       "dtype: float64"
      ]
     },
     "execution_count": 113,
     "metadata": {},
     "output_type": "execute_result"
    }
   ],
   "source": [
    "print(err_X_test[(err_X_test['dx_pred'] == 0) & (err_X_test['dx'] == 1)].shape)\n",
    "err_X_test[(err_X_test['dx_pred'] == 0) & (err_X_test['dx'] == 1)].agg('mean') #filtering for False Negatives"
   ]
  },
  {
   "cell_type": "code",
   "execution_count": 112,
   "id": "09b229dd-ef76-4431-86a4-51c088084911",
   "metadata": {},
   "outputs": [
    {
     "data": {
      "text/plain": [
       "age         59.981583\n",
       "dx           1.000000\n",
       "leg         36.784669\n",
       "waist      108.177120\n",
       "sub         24.342985\n",
       "gh           6.957549\n",
       "albumin      4.130960\n",
       "bun         15.763842\n",
       "dtype: float64"
      ]
     },
     "execution_count": 112,
     "metadata": {},
     "output_type": "execute_result"
    }
   ],
   "source": [
    "data_model[data_model['dx'] == 1].agg('mean')"
   ]
  },
  {
   "cell_type": "markdown",
   "id": "fb2e2c15-9375-4a19-bb51-a64f0ba77cf3",
   "metadata": {},
   "source": [
    "If we look at the Top 4 important feature for these 33 False Negatives, the means are {[gh] = 5.52, [age] = 47.7, [waist] = 97.9, [sub] = 20.8}, which is well below the respective means of the positive class for the whole population {6.96, 60.0, 108.2, 24.34} . This could mean that are other factors that aren't in the dataset that led to the initial classification, or that the patient is responding well to the treatment in keeping their diabetes at bay. We can better understand the reason behind the error by discussing with the clinicians."
   ]
  },
  {
   "cell_type": "code",
   "execution_count": null,
   "id": "ad4aaf34-9bb1-4189-81d6-69a75926569c",
   "metadata": {},
   "outputs": [],
   "source": []
  }
 ],
 "metadata": {
  "kernelspec": {
   "display_name": "Python 3 (ipykernel)",
   "language": "python",
   "name": "python3"
  },
  "language_info": {
   "codemirror_mode": {
    "name": "ipython",
    "version": 3
   },
   "file_extension": ".py",
   "mimetype": "text/x-python",
   "name": "python",
   "nbconvert_exporter": "python",
   "pygments_lexer": "ipython3",
   "version": "3.8.18"
  },
  "varInspector": {
   "cols": {
    "lenName": 16,
    "lenType": 16,
    "lenVar": 40
   },
   "kernels_config": {
    "python": {
     "delete_cmd_postfix": "",
     "delete_cmd_prefix": "del ",
     "library": "var_list.py",
     "varRefreshCmd": "print(var_dic_list())"
    },
    "r": {
     "delete_cmd_postfix": ") ",
     "delete_cmd_prefix": "rm(",
     "library": "var_list.r",
     "varRefreshCmd": "cat(var_dic_list()) "
    }
   },
   "types_to_exclude": [
    "module",
    "function",
    "builtin_function_or_method",
    "instance",
    "_Feature"
   ],
   "window_display": false
  }
 },
 "nbformat": 4,
 "nbformat_minor": 5
}
